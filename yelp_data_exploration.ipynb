{
 "cells": [
  {
   "cell_type": "markdown",
   "metadata": {},
   "source": [
    "# Yelp Data Exploration, Processing and Feature Engineering"
   ]
  },
  {
   "cell_type": "markdown",
   "metadata": {},
   "source": [
    "All of the data is from Yelp's Academic Dataset and is structured as five different json files, which I have converted to .csv files. Below I go through each file and extract relevant features. "
   ]
  },
  {
   "cell_type": "code",
   "execution_count": 39,
   "metadata": {
    "collapsed": false
   },
   "outputs": [],
   "source": [
    "import pandas as pd\n",
    "import re\n",
    "from collections import Counter\n",
    "import numpy as np\n",
    "from tqdm import tqdm\n",
    "import pickle\n",
    "import matplotlib.pyplot as plt\n",
    "from collections import defaultdict\n",
    "%matplotlib inline"
   ]
  },
  {
   "cell_type": "markdown",
   "metadata": {},
   "source": [
    "## Business Data"
   ]
  },
  {
   "cell_type": "code",
   "execution_count": 40,
   "metadata": {
    "collapsed": false
   },
   "outputs": [
    {
     "data": {
      "text/html": [
       "<div>\n",
       "<table border=\"1\" class=\"dataframe\">\n",
       "  <thead>\n",
       "    <tr style=\"text-align: right;\">\n",
       "      <th></th>\n",
       "      <th>attributes.Ambience.divey</th>\n",
       "      <th>attributes.Dietary Restrictions.vegan</th>\n",
       "      <th>attributes.Happy Hour</th>\n",
       "      <th>hours.Thursday.open</th>\n",
       "      <th>attributes.Order at Counter</th>\n",
       "      <th>attributes.Hair Types Specialized In.africanamerican</th>\n",
       "      <th>attributes.Hair Types Specialized In.kids</th>\n",
       "      <th>attributes.BYOB</th>\n",
       "      <th>hours.Friday.open</th>\n",
       "      <th>attributes.Good For.latenight</th>\n",
       "      <th>...</th>\n",
       "      <th>attributes.Noise Level</th>\n",
       "      <th>attributes.Smoking</th>\n",
       "      <th>attributes.Attire</th>\n",
       "      <th>attributes.Hair Types Specialized In.curly</th>\n",
       "      <th>attributes.Good For Groups</th>\n",
       "      <th>neighborhoods</th>\n",
       "      <th>attributes.Open 24 Hours</th>\n",
       "      <th>attributes.Ambience.romantic</th>\n",
       "      <th>attributes.Music.jukebox</th>\n",
       "      <th>attributes.Ambience.upscale</th>\n",
       "    </tr>\n",
       "  </thead>\n",
       "  <tbody>\n",
       "    <tr>\n",
       "      <th>0</th>\n",
       "      <td>False</td>\n",
       "      <td>NaN</td>\n",
       "      <td>NaN</td>\n",
       "      <td>11:00</td>\n",
       "      <td>NaN</td>\n",
       "      <td>NaN</td>\n",
       "      <td>NaN</td>\n",
       "      <td>NaN</td>\n",
       "      <td>11:00</td>\n",
       "      <td>False</td>\n",
       "      <td>...</td>\n",
       "      <td>average</td>\n",
       "      <td>NaN</td>\n",
       "      <td>casual</td>\n",
       "      <td>NaN</td>\n",
       "      <td>True</td>\n",
       "      <td>[]</td>\n",
       "      <td>NaN</td>\n",
       "      <td>False</td>\n",
       "      <td>NaN</td>\n",
       "      <td>False</td>\n",
       "    </tr>\n",
       "    <tr>\n",
       "      <th>1</th>\n",
       "      <td>NaN</td>\n",
       "      <td>NaN</td>\n",
       "      <td>True</td>\n",
       "      <td>NaN</td>\n",
       "      <td>NaN</td>\n",
       "      <td>NaN</td>\n",
       "      <td>NaN</td>\n",
       "      <td>NaN</td>\n",
       "      <td>NaN</td>\n",
       "      <td>NaN</td>\n",
       "      <td>...</td>\n",
       "      <td>NaN</td>\n",
       "      <td>NaN</td>\n",
       "      <td>NaN</td>\n",
       "      <td>NaN</td>\n",
       "      <td>True</td>\n",
       "      <td>[]</td>\n",
       "      <td>NaN</td>\n",
       "      <td>NaN</td>\n",
       "      <td>NaN</td>\n",
       "      <td>NaN</td>\n",
       "    </tr>\n",
       "    <tr>\n",
       "      <th>2</th>\n",
       "      <td>NaN</td>\n",
       "      <td>NaN</td>\n",
       "      <td>NaN</td>\n",
       "      <td>NaN</td>\n",
       "      <td>NaN</td>\n",
       "      <td>NaN</td>\n",
       "      <td>NaN</td>\n",
       "      <td>NaN</td>\n",
       "      <td>NaN</td>\n",
       "      <td>NaN</td>\n",
       "      <td>...</td>\n",
       "      <td>NaN</td>\n",
       "      <td>NaN</td>\n",
       "      <td>NaN</td>\n",
       "      <td>NaN</td>\n",
       "      <td>NaN</td>\n",
       "      <td>[]</td>\n",
       "      <td>NaN</td>\n",
       "      <td>NaN</td>\n",
       "      <td>NaN</td>\n",
       "      <td>NaN</td>\n",
       "    </tr>\n",
       "    <tr>\n",
       "      <th>3</th>\n",
       "      <td>NaN</td>\n",
       "      <td>NaN</td>\n",
       "      <td>NaN</td>\n",
       "      <td>NaN</td>\n",
       "      <td>NaN</td>\n",
       "      <td>NaN</td>\n",
       "      <td>NaN</td>\n",
       "      <td>NaN</td>\n",
       "      <td>NaN</td>\n",
       "      <td>NaN</td>\n",
       "      <td>...</td>\n",
       "      <td>NaN</td>\n",
       "      <td>NaN</td>\n",
       "      <td>NaN</td>\n",
       "      <td>NaN</td>\n",
       "      <td>NaN</td>\n",
       "      <td>[]</td>\n",
       "      <td>NaN</td>\n",
       "      <td>NaN</td>\n",
       "      <td>NaN</td>\n",
       "      <td>NaN</td>\n",
       "    </tr>\n",
       "    <tr>\n",
       "      <th>4</th>\n",
       "      <td>NaN</td>\n",
       "      <td>NaN</td>\n",
       "      <td>NaN</td>\n",
       "      <td>10:00</td>\n",
       "      <td>NaN</td>\n",
       "      <td>NaN</td>\n",
       "      <td>NaN</td>\n",
       "      <td>NaN</td>\n",
       "      <td>10:00</td>\n",
       "      <td>NaN</td>\n",
       "      <td>...</td>\n",
       "      <td>NaN</td>\n",
       "      <td>NaN</td>\n",
       "      <td>NaN</td>\n",
       "      <td>NaN</td>\n",
       "      <td>NaN</td>\n",
       "      <td>[]</td>\n",
       "      <td>NaN</td>\n",
       "      <td>NaN</td>\n",
       "      <td>NaN</td>\n",
       "      <td>NaN</td>\n",
       "    </tr>\n",
       "  </tbody>\n",
       "</table>\n",
       "<p>5 rows × 98 columns</p>\n",
       "</div>"
      ],
      "text/plain": [
       "  attributes.Ambience.divey attributes.Dietary Restrictions.vegan  \\\n",
       "0                     False                                   NaN   \n",
       "1                       NaN                                   NaN   \n",
       "2                       NaN                                   NaN   \n",
       "3                       NaN                                   NaN   \n",
       "4                       NaN                                   NaN   \n",
       "\n",
       "  attributes.Happy Hour hours.Thursday.open attributes.Order at Counter  \\\n",
       "0                   NaN               11:00                         NaN   \n",
       "1                  True                 NaN                         NaN   \n",
       "2                   NaN                 NaN                         NaN   \n",
       "3                   NaN                 NaN                         NaN   \n",
       "4                   NaN               10:00                         NaN   \n",
       "\n",
       "  attributes.Hair Types Specialized In.africanamerican  \\\n",
       "0                                                NaN     \n",
       "1                                                NaN     \n",
       "2                                                NaN     \n",
       "3                                                NaN     \n",
       "4                                                NaN     \n",
       "\n",
       "  attributes.Hair Types Specialized In.kids attributes.BYOB hours.Friday.open  \\\n",
       "0                                       NaN             NaN             11:00   \n",
       "1                                       NaN             NaN               NaN   \n",
       "2                                       NaN             NaN               NaN   \n",
       "3                                       NaN             NaN               NaN   \n",
       "4                                       NaN             NaN             10:00   \n",
       "\n",
       "  attributes.Good For.latenight             ...              \\\n",
       "0                         False             ...               \n",
       "1                           NaN             ...               \n",
       "2                           NaN             ...               \n",
       "3                           NaN             ...               \n",
       "4                           NaN             ...               \n",
       "\n",
       "  attributes.Noise Level attributes.Smoking attributes.Attire  \\\n",
       "0                average                NaN            casual   \n",
       "1                    NaN                NaN               NaN   \n",
       "2                    NaN                NaN               NaN   \n",
       "3                    NaN                NaN               NaN   \n",
       "4                    NaN                NaN               NaN   \n",
       "\n",
       "  attributes.Hair Types Specialized In.curly attributes.Good For Groups  \\\n",
       "0                                        NaN                       True   \n",
       "1                                        NaN                       True   \n",
       "2                                        NaN                        NaN   \n",
       "3                                        NaN                        NaN   \n",
       "4                                        NaN                        NaN   \n",
       "\n",
       "  neighborhoods attributes.Open 24 Hours attributes.Ambience.romantic  \\\n",
       "0            []                      NaN                        False   \n",
       "1            []                      NaN                          NaN   \n",
       "2            []                      NaN                          NaN   \n",
       "3            []                      NaN                          NaN   \n",
       "4            []                      NaN                          NaN   \n",
       "\n",
       "  attributes.Music.jukebox attributes.Ambience.upscale  \n",
       "0                      NaN                       False  \n",
       "1                      NaN                         NaN  \n",
       "2                      NaN                         NaN  \n",
       "3                      NaN                         NaN  \n",
       "4                      NaN                         NaN  \n",
       "\n",
       "[5 rows x 98 columns]"
      ]
     },
     "execution_count": 40,
     "metadata": {},
     "output_type": "execute_result"
    }
   ],
   "source": [
    "business = pd.read_csv('csv/yelp_academic_dataset_business.csv')\n",
    "business.head()"
   ]
  },
  {
   "cell_type": "markdown",
   "metadata": {
    "collapsed": false
   },
   "source": [
    "Create a counter object of all possible categories. "
   ]
  },
  {
   "cell_type": "code",
   "execution_count": 42,
   "metadata": {
    "collapsed": false
   },
   "outputs": [
    {
     "data": {
      "text/plain": [
       "\"['Fast Food', 'Restaurants']\""
      ]
     },
     "execution_count": 42,
     "metadata": {},
     "output_type": "execute_result"
    }
   ],
   "source": [
    "business.categories[0]"
   ]
  },
  {
   "cell_type": "code",
   "execution_count": 41,
   "metadata": {
    "collapsed": false
   },
   "outputs": [],
   "source": [
    "category_list = business.categories\n",
    "total_categories = []\n",
    "category_by_business = []\n",
    "\n",
    "for line in category_list:\n",
    "    # Extract the text (example in cell above)\n",
    "    names = re.findall('(?<=\\')[a-zA-Z\\s]*?(?=\\')', line)\n",
    "    category_by_business.append(names)\n",
    "    total_categories.extend(names)\n",
    "\n",
    "counter = Counter(total_categories)"
   ]
  },
  {
   "cell_type": "code",
   "execution_count": 43,
   "metadata": {
    "collapsed": false
   },
   "outputs": [
    {
     "data": {
      "text/plain": [
       "['Fast Food', 'Restaurants', 'Nightlife', 'Auto Repair', 'Automotive']"
      ]
     },
     "execution_count": 43,
     "metadata": {},
     "output_type": "execute_result"
    }
   ],
   "source": [
    "total_categories[:5]"
   ]
  },
  {
   "cell_type": "code",
   "execution_count": 44,
   "metadata": {
    "collapsed": false
   },
   "outputs": [
    {
     "data": {
      "text/plain": [
       "[['Fast Food', 'Restaurants'],\n",
       " ['Nightlife'],\n",
       " ['Auto Repair', 'Automotive'],\n",
       " ['Active Life', 'Mini Golf', 'Golf'],\n",
       " ['Shopping',\n",
       "  'Home Services',\n",
       "  'Internet Service Providers',\n",
       "  'Mobile Phones',\n",
       "  'Professional Services',\n",
       "  'Electronics']]"
      ]
     },
     "execution_count": 44,
     "metadata": {},
     "output_type": "execute_result"
    }
   ],
   "source": [
    "category_by_business[:5]"
   ]
  },
  {
   "cell_type": "markdown",
   "metadata": {},
   "source": [
    "Flatten each business' category list to a single category by choosing the most popular category"
   ]
  },
  {
   "cell_type": "code",
   "execution_count": 45,
   "metadata": {
    "collapsed": false
   },
   "outputs": [],
   "source": [
    "common_categories = counter.most_common()\n",
    "most_common_category = []\n",
    "for line in category_by_business:\n",
    "    count_list = []\n",
    "    if line:\n",
    "        for cat in line:\n",
    "            count_list.append(counter[cat])\n",
    "        biggest = line[np.argmax(count_list)]\n",
    "        most_common_category.append(biggest)\n",
    "    else:\n",
    "        most_common_category.append('')"
   ]
  },
  {
   "cell_type": "markdown",
   "metadata": {},
   "source": [
    "Create a new feature with this category"
   ]
  },
  {
   "cell_type": "code",
   "execution_count": 46,
   "metadata": {
    "collapsed": false
   },
   "outputs": [],
   "source": [
    "business['category_main'] = most_common_category"
   ]
  },
  {
   "cell_type": "markdown",
   "metadata": {},
   "source": [
    "Choose only the important features from the business dataset"
   ]
  },
  {
   "cell_type": "code",
   "execution_count": 47,
   "metadata": {
    "collapsed": false
   },
   "outputs": [
    {
     "data": {
      "text/html": [
       "<div>\n",
       "<table border=\"1\" class=\"dataframe\">\n",
       "  <thead>\n",
       "    <tr style=\"text-align: right;\">\n",
       "      <th></th>\n",
       "      <th>business_id</th>\n",
       "      <th>name</th>\n",
       "      <th>category_main</th>\n",
       "      <th>city</th>\n",
       "      <th>state</th>\n",
       "      <th>latitude</th>\n",
       "      <th>longitude</th>\n",
       "      <th>review_count</th>\n",
       "      <th>stars</th>\n",
       "    </tr>\n",
       "  </thead>\n",
       "  <tbody>\n",
       "    <tr>\n",
       "      <th>0</th>\n",
       "      <td>5UmKMjUEUNdYWqANhGckJw</td>\n",
       "      <td>Mr Hoagie</td>\n",
       "      <td>Restaurants</td>\n",
       "      <td>Dravosburg</td>\n",
       "      <td>PA</td>\n",
       "      <td>40.354327</td>\n",
       "      <td>-79.900706</td>\n",
       "      <td>4</td>\n",
       "      <td>4.5</td>\n",
       "    </tr>\n",
       "    <tr>\n",
       "      <th>1</th>\n",
       "      <td>UsFtqoBl7naz8AVUBZMjQQ</td>\n",
       "      <td>Clancy's Pub</td>\n",
       "      <td>Nightlife</td>\n",
       "      <td>Dravosburg</td>\n",
       "      <td>PA</td>\n",
       "      <td>40.350553</td>\n",
       "      <td>-79.886814</td>\n",
       "      <td>4</td>\n",
       "      <td>3.5</td>\n",
       "    </tr>\n",
       "    <tr>\n",
       "      <th>2</th>\n",
       "      <td>3eu6MEFlq2Dg7bQh8QbdOg</td>\n",
       "      <td>Joe Cislo's Auto</td>\n",
       "      <td>Automotive</td>\n",
       "      <td>Dravosburg</td>\n",
       "      <td>PA</td>\n",
       "      <td>40.350956</td>\n",
       "      <td>-79.889059</td>\n",
       "      <td>3</td>\n",
       "      <td>5.0</td>\n",
       "    </tr>\n",
       "    <tr>\n",
       "      <th>3</th>\n",
       "      <td>cE27W9VPgO88Qxe4ol6y_g</td>\n",
       "      <td>Cool Springs Golf Center</td>\n",
       "      <td>Active Life</td>\n",
       "      <td>Bethel Park</td>\n",
       "      <td>PA</td>\n",
       "      <td>40.354116</td>\n",
       "      <td>-80.014660</td>\n",
       "      <td>5</td>\n",
       "      <td>2.5</td>\n",
       "    </tr>\n",
       "    <tr>\n",
       "      <th>4</th>\n",
       "      <td>HZdLhv6COCleJMo7nPl-RA</td>\n",
       "      <td>Verizon</td>\n",
       "      <td>Shopping</td>\n",
       "      <td>Pittsburgh</td>\n",
       "      <td>PA</td>\n",
       "      <td>40.357620</td>\n",
       "      <td>-80.059980</td>\n",
       "      <td>5</td>\n",
       "      <td>2.5</td>\n",
       "    </tr>\n",
       "  </tbody>\n",
       "</table>\n",
       "</div>"
      ],
      "text/plain": [
       "              business_id                      name category_main  \\\n",
       "0  5UmKMjUEUNdYWqANhGckJw                 Mr Hoagie   Restaurants   \n",
       "1  UsFtqoBl7naz8AVUBZMjQQ              Clancy's Pub     Nightlife   \n",
       "2  3eu6MEFlq2Dg7bQh8QbdOg          Joe Cislo's Auto    Automotive   \n",
       "3  cE27W9VPgO88Qxe4ol6y_g  Cool Springs Golf Center   Active Life   \n",
       "4  HZdLhv6COCleJMo7nPl-RA                   Verizon      Shopping   \n",
       "\n",
       "          city state   latitude  longitude  review_count  stars  \n",
       "0   Dravosburg    PA  40.354327 -79.900706             4    4.5  \n",
       "1   Dravosburg    PA  40.350553 -79.886814             4    3.5  \n",
       "2   Dravosburg    PA  40.350956 -79.889059             3    5.0  \n",
       "3  Bethel Park    PA  40.354116 -80.014660             5    2.5  \n",
       "4   Pittsburgh    PA  40.357620 -80.059980             5    2.5  "
      ]
     },
     "execution_count": 47,
     "metadata": {},
     "output_type": "execute_result"
    }
   ],
   "source": [
    "business_short = business[['business_id','name','category_main','city','state', \n",
    "                           'latitude','longitude','review_count','stars']]\n",
    "business_short.head()"
   ]
  },
  {
   "cell_type": "markdown",
   "metadata": {
    "collapsed": true
   },
   "source": [
    "Pickle this dataframe if necessary"
   ]
  },
  {
   "cell_type": "code",
   "execution_count": null,
   "metadata": {
    "collapsed": false
   },
   "outputs": [],
   "source": [
    "with open('pickle/business.pickle', 'wb') as handle:\n",
    "    pickle.dump(business_short, handle)\n",
    "\n",
    "with open('pickle/business.pickle', 'rb') as handle:\n",
    "    business = pickle.load(handle)"
   ]
  },
  {
   "cell_type": "markdown",
   "metadata": {},
   "source": [
    "Look at the histogram for review counts for each Yelp rating"
   ]
  },
  {
   "cell_type": "code",
   "execution_count": 48,
   "metadata": {
    "collapsed": false
   },
   "outputs": [
    {
     "data": {
      "text/plain": [
       "<matplotlib.text.Text at 0x1419d7b10>"
      ]
     },
     "execution_count": 48,
     "metadata": {},
     "output_type": "execute_result"
    },
    {
     "data": {
      "image/png": "[encoded data removed]",
      "text/plain": [
       "<matplotlib.figure.Figure at 0x12ffa2b90>"
      ]
     },
     "metadata": {},
     "output_type": "display_data"
    }
   ],
   "source": [
    "stars5 = business.groupby(by='stars').get_group(5)\n",
    "stars4 = business.groupby(by='stars').get_group(4)\n",
    "stars3 = business.groupby(by='stars').get_group(3)\n",
    "stars2 = business.groupby(by='stars').get_group(2)\n",
    "stars1 = business.groupby(by='stars').get_group(1)\n",
    "\n",
    "plt.figure(figsize=(18,2))\n",
    "plt.subplot(1,5,1)\n",
    "plt.hist(stars5.review_count, bins= 15, range=(0,100))\n",
    "plt.xlim(0, 100)\n",
    "plt.title('5 Stars')\n",
    "plt.subplot(1,5,2)\n",
    "plt.hist(stars4.review_count, bins=15, range=(0,100))\n",
    "plt.xlim(0, 100)\n",
    "plt.title('4 Stars')\n",
    "plt.subplot(1,5,3)\n",
    "plt.hist(stars3.review_count, bins= 15, range=(0,100))\n",
    "plt.xlim(0, 100)\n",
    "plt.title('3 Stars')\n",
    "plt.subplot(1,5,4)\n",
    "plt.hist(stars2.review_count, bins= 15, range=(0,100))\n",
    "plt.xlim(0, 100)\n",
    "plt.title('2 Stars')\n",
    "plt.subplot(1,5,5)\n",
    "plt.hist(stars1.review_count, bins= 15, range=(0,100))\n",
    "plt.xlim(0, 100)\n",
    "plt.title('1 Stars')"
   ]
  },
  {
   "cell_type": "markdown",
   "metadata": {
    "collapsed": true
   },
   "source": [
    "## Check-In Data"
   ]
  },
  {
   "cell_type": "code",
   "execution_count": 49,
   "metadata": {
    "collapsed": false
   },
   "outputs": [
    {
     "data": {
      "text/html": [
       "<div>\n",
       "<table border=\"1\" class=\"dataframe\">\n",
       "  <thead>\n",
       "    <tr style=\"text-align: right;\">\n",
       "      <th></th>\n",
       "      <th>checkin_info.9-0</th>\n",
       "      <th>checkin_info.9-1</th>\n",
       "      <th>checkin_info.9-2</th>\n",
       "      <th>checkin_info.9-3</th>\n",
       "      <th>checkin_info.9-4</th>\n",
       "      <th>checkin_info.9-5</th>\n",
       "      <th>checkin_info.9-6</th>\n",
       "      <th>checkin_info.20-2</th>\n",
       "      <th>checkin_info.20-3</th>\n",
       "      <th>checkin_info.20-0</th>\n",
       "      <th>...</th>\n",
       "      <th>checkin_info.6-1</th>\n",
       "      <th>checkin_info.6-0</th>\n",
       "      <th>checkin_info.3-1</th>\n",
       "      <th>checkin_info.18-6</th>\n",
       "      <th>checkin_info.18-5</th>\n",
       "      <th>checkin_info.18-4</th>\n",
       "      <th>checkin_info.18-3</th>\n",
       "      <th>checkin_info.18-2</th>\n",
       "      <th>checkin_info.18-1</th>\n",
       "      <th>checkin_info.18-0</th>\n",
       "    </tr>\n",
       "  </thead>\n",
       "  <tbody>\n",
       "    <tr>\n",
       "      <th>0</th>\n",
       "      <td>NaN</td>\n",
       "      <td>NaN</td>\n",
       "      <td>NaN</td>\n",
       "      <td>NaN</td>\n",
       "      <td>NaN</td>\n",
       "      <td>1.0</td>\n",
       "      <td>NaN</td>\n",
       "      <td>NaN</td>\n",
       "      <td>NaN</td>\n",
       "      <td>NaN</td>\n",
       "      <td>...</td>\n",
       "      <td>NaN</td>\n",
       "      <td>NaN</td>\n",
       "      <td>NaN</td>\n",
       "      <td>NaN</td>\n",
       "      <td>NaN</td>\n",
       "      <td>1.0</td>\n",
       "      <td>NaN</td>\n",
       "      <td>NaN</td>\n",
       "      <td>NaN</td>\n",
       "      <td>NaN</td>\n",
       "    </tr>\n",
       "    <tr>\n",
       "      <th>1</th>\n",
       "      <td>NaN</td>\n",
       "      <td>NaN</td>\n",
       "      <td>NaN</td>\n",
       "      <td>NaN</td>\n",
       "      <td>3.0</td>\n",
       "      <td>1.0</td>\n",
       "      <td>NaN</td>\n",
       "      <td>NaN</td>\n",
       "      <td>NaN</td>\n",
       "      <td>NaN</td>\n",
       "      <td>...</td>\n",
       "      <td>NaN</td>\n",
       "      <td>NaN</td>\n",
       "      <td>NaN</td>\n",
       "      <td>NaN</td>\n",
       "      <td>NaN</td>\n",
       "      <td>NaN</td>\n",
       "      <td>NaN</td>\n",
       "      <td>NaN</td>\n",
       "      <td>NaN</td>\n",
       "      <td>NaN</td>\n",
       "    </tr>\n",
       "    <tr>\n",
       "      <th>2</th>\n",
       "      <td>NaN</td>\n",
       "      <td>1.0</td>\n",
       "      <td>NaN</td>\n",
       "      <td>NaN</td>\n",
       "      <td>4.0</td>\n",
       "      <td>NaN</td>\n",
       "      <td>NaN</td>\n",
       "      <td>NaN</td>\n",
       "      <td>NaN</td>\n",
       "      <td>NaN</td>\n",
       "      <td>...</td>\n",
       "      <td>NaN</td>\n",
       "      <td>NaN</td>\n",
       "      <td>NaN</td>\n",
       "      <td>NaN</td>\n",
       "      <td>NaN</td>\n",
       "      <td>1.0</td>\n",
       "      <td>1.0</td>\n",
       "      <td>NaN</td>\n",
       "      <td>NaN</td>\n",
       "      <td>NaN</td>\n",
       "    </tr>\n",
       "    <tr>\n",
       "      <th>3</th>\n",
       "      <td>NaN</td>\n",
       "      <td>NaN</td>\n",
       "      <td>NaN</td>\n",
       "      <td>NaN</td>\n",
       "      <td>NaN</td>\n",
       "      <td>NaN</td>\n",
       "      <td>NaN</td>\n",
       "      <td>NaN</td>\n",
       "      <td>NaN</td>\n",
       "      <td>NaN</td>\n",
       "      <td>...</td>\n",
       "      <td>NaN</td>\n",
       "      <td>NaN</td>\n",
       "      <td>NaN</td>\n",
       "      <td>NaN</td>\n",
       "      <td>NaN</td>\n",
       "      <td>NaN</td>\n",
       "      <td>NaN</td>\n",
       "      <td>NaN</td>\n",
       "      <td>NaN</td>\n",
       "      <td>NaN</td>\n",
       "    </tr>\n",
       "    <tr>\n",
       "      <th>4</th>\n",
       "      <td>NaN</td>\n",
       "      <td>NaN</td>\n",
       "      <td>NaN</td>\n",
       "      <td>1.0</td>\n",
       "      <td>NaN</td>\n",
       "      <td>NaN</td>\n",
       "      <td>NaN</td>\n",
       "      <td>NaN</td>\n",
       "      <td>NaN</td>\n",
       "      <td>NaN</td>\n",
       "      <td>...</td>\n",
       "      <td>NaN</td>\n",
       "      <td>NaN</td>\n",
       "      <td>NaN</td>\n",
       "      <td>NaN</td>\n",
       "      <td>NaN</td>\n",
       "      <td>NaN</td>\n",
       "      <td>NaN</td>\n",
       "      <td>NaN</td>\n",
       "      <td>NaN</td>\n",
       "      <td>NaN</td>\n",
       "    </tr>\n",
       "  </tbody>\n",
       "</table>\n",
       "<p>5 rows × 170 columns</p>\n",
       "</div>"
      ],
      "text/plain": [
       "   checkin_info.9-0  checkin_info.9-1  checkin_info.9-2  checkin_info.9-3  \\\n",
       "0               NaN               NaN               NaN               NaN   \n",
       "1               NaN               NaN               NaN               NaN   \n",
       "2               NaN               1.0               NaN               NaN   \n",
       "3               NaN               NaN               NaN               NaN   \n",
       "4               NaN               NaN               NaN               1.0   \n",
       "\n",
       "   checkin_info.9-4  checkin_info.9-5  checkin_info.9-6  checkin_info.20-2  \\\n",
       "0               NaN               1.0               NaN                NaN   \n",
       "1               3.0               1.0               NaN                NaN   \n",
       "2               4.0               NaN               NaN                NaN   \n",
       "3               NaN               NaN               NaN                NaN   \n",
       "4               NaN               NaN               NaN                NaN   \n",
       "\n",
       "   checkin_info.20-3  checkin_info.20-0        ...          checkin_info.6-1  \\\n",
       "0                NaN                NaN        ...                       NaN   \n",
       "1                NaN                NaN        ...                       NaN   \n",
       "2                NaN                NaN        ...                       NaN   \n",
       "3                NaN                NaN        ...                       NaN   \n",
       "4                NaN                NaN        ...                       NaN   \n",
       "\n",
       "   checkin_info.6-0  checkin_info.3-1  checkin_info.18-6 checkin_info.18-5  \\\n",
       "0               NaN               NaN                NaN               NaN   \n",
       "1               NaN               NaN                NaN               NaN   \n",
       "2               NaN               NaN                NaN               NaN   \n",
       "3               NaN               NaN                NaN               NaN   \n",
       "4               NaN               NaN                NaN               NaN   \n",
       "\n",
       "   checkin_info.18-4  checkin_info.18-3  checkin_info.18-2  checkin_info.18-1  \\\n",
       "0                1.0                NaN                NaN                NaN   \n",
       "1                NaN                NaN                NaN                NaN   \n",
       "2                1.0                1.0                NaN                NaN   \n",
       "3                NaN                NaN                NaN                NaN   \n",
       "4                NaN                NaN                NaN                NaN   \n",
       "\n",
       "   checkin_info.18-0  \n",
       "0                NaN  \n",
       "1                NaN  \n",
       "2                NaN  \n",
       "3                NaN  \n",
       "4                NaN  \n",
       "\n",
       "[5 rows x 170 columns]"
      ]
     },
     "execution_count": 49,
     "metadata": {},
     "output_type": "execute_result"
    }
   ],
   "source": [
    "checkin = pd.read_csv('csv/yelp_academic_dataset_checkin.csv')\n",
    "checkin.head()"
   ]
  },
  {
   "cell_type": "markdown",
   "metadata": {},
   "source": [
    "Find the total number of check-ins for each business by summing across all time intervals"
   ]
  },
  {
   "cell_type": "code",
   "execution_count": 50,
   "metadata": {
    "collapsed": false
   },
   "outputs": [],
   "source": [
    "num_total_checkins = checkin.sum(axis=1)\n",
    "checkin['total'] = num_total_checkins"
   ]
  },
  {
   "cell_type": "markdown",
   "metadata": {},
   "source": [
    "Extract most important features from check-in data"
   ]
  },
  {
   "cell_type": "code",
   "execution_count": 51,
   "metadata": {
    "collapsed": false
   },
   "outputs": [
    {
     "data": {
      "text/html": [
       "<div>\n",
       "<table border=\"1\" class=\"dataframe\">\n",
       "  <thead>\n",
       "    <tr style=\"text-align: right;\">\n",
       "      <th></th>\n",
       "      <th>business_id</th>\n",
       "      <th>total</th>\n",
       "    </tr>\n",
       "  </thead>\n",
       "  <tbody>\n",
       "    <tr>\n",
       "      <th>0</th>\n",
       "      <td>cE27W9VPgO88Qxe4ol6y_g</td>\n",
       "      <td>9.0</td>\n",
       "    </tr>\n",
       "    <tr>\n",
       "      <th>1</th>\n",
       "      <td>mVHrayjG3uZ_RLHkLj-AMg</td>\n",
       "      <td>23.0</td>\n",
       "    </tr>\n",
       "    <tr>\n",
       "      <th>2</th>\n",
       "      <td>KayYbHCt-RkbGcPdGOThNg</td>\n",
       "      <td>55.0</td>\n",
       "    </tr>\n",
       "    <tr>\n",
       "      <th>3</th>\n",
       "      <td>b12U9TFESStdy7CsTtcOeg</td>\n",
       "      <td>5.0</td>\n",
       "    </tr>\n",
       "    <tr>\n",
       "      <th>4</th>\n",
       "      <td>QoDa50dc7g62xciFygXB9w</td>\n",
       "      <td>5.0</td>\n",
       "    </tr>\n",
       "  </tbody>\n",
       "</table>\n",
       "</div>"
      ],
      "text/plain": [
       "              business_id  total\n",
       "0  cE27W9VPgO88Qxe4ol6y_g    9.0\n",
       "1  mVHrayjG3uZ_RLHkLj-AMg   23.0\n",
       "2  KayYbHCt-RkbGcPdGOThNg   55.0\n",
       "3  b12U9TFESStdy7CsTtcOeg    5.0\n",
       "4  QoDa50dc7g62xciFygXB9w    5.0"
      ]
     },
     "execution_count": 51,
     "metadata": {},
     "output_type": "execute_result"
    }
   ],
   "source": [
    "checkin_short = checkin[['business_id','total']]\n",
    "checkin_short.head()"
   ]
  },
  {
   "cell_type": "markdown",
   "metadata": {},
   "source": [
    "Pickle dataframe if necessary"
   ]
  },
  {
   "cell_type": "code",
   "execution_count": null,
   "metadata": {
    "collapsed": true
   },
   "outputs": [],
   "source": [
    "with open('pickle/checkin.pickle', 'wb') as handle:\n",
    "    pickle.dump(checkin_short, handle)"
   ]
  },
  {
   "cell_type": "markdown",
   "metadata": {},
   "source": [
    "## Tips Data"
   ]
  },
  {
   "cell_type": "code",
   "execution_count": 52,
   "metadata": {
    "collapsed": false
   },
   "outputs": [
    {
     "data": {
      "text/html": [
       "<div>\n",
       "<table border=\"1\" class=\"dataframe\">\n",
       "  <thead>\n",
       "    <tr style=\"text-align: right;\">\n",
       "      <th></th>\n",
       "      <th>user_id</th>\n",
       "      <th>text</th>\n",
       "      <th>business_id</th>\n",
       "      <th>likes</th>\n",
       "      <th>date</th>\n",
       "      <th>type</th>\n",
       "    </tr>\n",
       "  </thead>\n",
       "  <tbody>\n",
       "    <tr>\n",
       "      <th>0</th>\n",
       "      <td>-6rEfobYjMxpUWLNxszaxQ</td>\n",
       "      <td>Don't waste your time.</td>\n",
       "      <td>cE27W9VPgO88Qxe4ol6y_g</td>\n",
       "      <td>0</td>\n",
       "      <td>2013-04-18</td>\n",
       "      <td>tip</td>\n",
       "    </tr>\n",
       "    <tr>\n",
       "      <th>1</th>\n",
       "      <td>EZ0r9dKKtEGVx2CdnowPCw</td>\n",
       "      <td>Your GPS will not allow you to find this place...</td>\n",
       "      <td>mVHrayjG3uZ_RLHkLj-AMg</td>\n",
       "      <td>1</td>\n",
       "      <td>2013-01-06</td>\n",
       "      <td>tip</td>\n",
       "    </tr>\n",
       "    <tr>\n",
       "      <th>2</th>\n",
       "      <td>xb6zEQCw9I-Gl0g06e1KsQ</td>\n",
       "      <td>Great drink specials!</td>\n",
       "      <td>KayYbHCt-RkbGcPdGOThNg</td>\n",
       "      <td>0</td>\n",
       "      <td>2013-12-03</td>\n",
       "      <td>tip</td>\n",
       "    </tr>\n",
       "    <tr>\n",
       "      <th>3</th>\n",
       "      <td>QawZN4PSW7ng_9SP7pjsVQ</td>\n",
       "      <td>Friendly staff, good food, great beer selectio...</td>\n",
       "      <td>KayYbHCt-RkbGcPdGOThNg</td>\n",
       "      <td>0</td>\n",
       "      <td>2015-07-08</td>\n",
       "      <td>tip</td>\n",
       "    </tr>\n",
       "    <tr>\n",
       "      <th>4</th>\n",
       "      <td>MLQre1nvUtW-RqMTc4iC9A</td>\n",
       "      <td>Beautiful restoration.</td>\n",
       "      <td>1_lU0-eSWJCRvNGk78Zh9Q</td>\n",
       "      <td>0</td>\n",
       "      <td>2015-10-25</td>\n",
       "      <td>tip</td>\n",
       "    </tr>\n",
       "  </tbody>\n",
       "</table>\n",
       "</div>"
      ],
      "text/plain": [
       "                  user_id                                               text  \\\n",
       "0  -6rEfobYjMxpUWLNxszaxQ                             Don't waste your time.   \n",
       "1  EZ0r9dKKtEGVx2CdnowPCw  Your GPS will not allow you to find this place...   \n",
       "2  xb6zEQCw9I-Gl0g06e1KsQ                              Great drink specials!   \n",
       "3  QawZN4PSW7ng_9SP7pjsVQ  Friendly staff, good food, great beer selectio...   \n",
       "4  MLQre1nvUtW-RqMTc4iC9A                             Beautiful restoration.   \n",
       "\n",
       "              business_id  likes        date type  \n",
       "0  cE27W9VPgO88Qxe4ol6y_g      0  2013-04-18  tip  \n",
       "1  mVHrayjG3uZ_RLHkLj-AMg      1  2013-01-06  tip  \n",
       "2  KayYbHCt-RkbGcPdGOThNg      0  2013-12-03  tip  \n",
       "3  KayYbHCt-RkbGcPdGOThNg      0  2015-07-08  tip  \n",
       "4  1_lU0-eSWJCRvNGk78Zh9Q      0  2015-10-25  tip  "
      ]
     },
     "execution_count": 52,
     "metadata": {},
     "output_type": "execute_result"
    }
   ],
   "source": [
    "tip = pd.read_csv('csv/yelp_academic_dataset_tip.csv')\n",
    "tip.head()"
   ]
  },
  {
   "cell_type": "markdown",
   "metadata": {},
   "source": [
    "Find the number of tips for each business - this will be the only feature I use from this data"
   ]
  },
  {
   "cell_type": "code",
   "execution_count": 53,
   "metadata": {
    "collapsed": true
   },
   "outputs": [],
   "source": [
    "tip_by_business = tip.groupby(by='business_id')\n",
    "num_tips_per_business = tip_by_business.size()"
   ]
  },
  {
   "cell_type": "markdown",
   "metadata": {},
   "source": [
    "Reformat into standard dataframe with business id as its own column"
   ]
  },
  {
   "cell_type": "code",
   "execution_count": 54,
   "metadata": {
    "collapsed": false
   },
   "outputs": [
    {
     "data": {
      "text/html": [
       "<div>\n",
       "<table border=\"1\" class=\"dataframe\">\n",
       "  <thead>\n",
       "    <tr style=\"text-align: right;\">\n",
       "      <th></th>\n",
       "      <th>num_tips</th>\n",
       "      <th>business_id</th>\n",
       "    </tr>\n",
       "  </thead>\n",
       "  <tbody>\n",
       "    <tr>\n",
       "      <th>0</th>\n",
       "      <td>7</td>\n",
       "      <td>--1emggGHgoG6ipd_RMb-g</td>\n",
       "    </tr>\n",
       "    <tr>\n",
       "      <th>1</th>\n",
       "      <td>1</td>\n",
       "      <td>--4Pe8BZ6gj57VFL5mUE8g</td>\n",
       "    </tr>\n",
       "    <tr>\n",
       "      <th>2</th>\n",
       "      <td>23</td>\n",
       "      <td>--5jkZ3-nUPZxUvtcbr8Uw</td>\n",
       "    </tr>\n",
       "    <tr>\n",
       "      <th>3</th>\n",
       "      <td>21</td>\n",
       "      <td>--BlvDO_RG2yElKu9XA1_g</td>\n",
       "    </tr>\n",
       "    <tr>\n",
       "      <th>4</th>\n",
       "      <td>1</td>\n",
       "      <td>--Dl2rW_xO8GuYBomlg9zw</td>\n",
       "    </tr>\n",
       "  </tbody>\n",
       "</table>\n",
       "</div>"
      ],
      "text/plain": [
       "   num_tips             business_id\n",
       "0         7  --1emggGHgoG6ipd_RMb-g\n",
       "1         1  --4Pe8BZ6gj57VFL5mUE8g\n",
       "2        23  --5jkZ3-nUPZxUvtcbr8Uw\n",
       "3        21  --BlvDO_RG2yElKu9XA1_g\n",
       "4         1  --Dl2rW_xO8GuYBomlg9zw"
      ]
     },
     "execution_count": 54,
     "metadata": {},
     "output_type": "execute_result"
    }
   ],
   "source": [
    "tipsdf = pd.DataFrame(num_tips_per_business)\n",
    "tipsdf['business_id'] = tipsdf.index\n",
    "tipsdf.reset_index(level=0, drop=True, inplace=True)\n",
    "tipsdf.rename(columns={0: 'num_tips'}, inplace=True)\n",
    "tipsdf.head()"
   ]
  },
  {
   "cell_type": "markdown",
   "metadata": {},
   "source": [
    "Pickle if necessary"
   ]
  },
  {
   "cell_type": "code",
   "execution_count": null,
   "metadata": {
    "collapsed": true
   },
   "outputs": [],
   "source": [
    "with open('pickle/tip.pickle', 'wb') as handle:\n",
    "    pickle.dump(num_tips_per_business, handle)"
   ]
  },
  {
   "cell_type": "markdown",
   "metadata": {},
   "source": [
    "## Review Data"
   ]
  },
  {
   "cell_type": "code",
   "execution_count": 55,
   "metadata": {
    "collapsed": false
   },
   "outputs": [
    {
     "data": {
      "text/html": [
       "<div>\n",
       "<table border=\"1\" class=\"dataframe\">\n",
       "  <thead>\n",
       "    <tr style=\"text-align: right;\">\n",
       "      <th></th>\n",
       "      <th>user_id</th>\n",
       "      <th>review_id</th>\n",
       "      <th>text</th>\n",
       "      <th>votes.cool</th>\n",
       "      <th>business_id</th>\n",
       "      <th>votes.funny</th>\n",
       "      <th>stars</th>\n",
       "      <th>date</th>\n",
       "      <th>type</th>\n",
       "      <th>votes.useful</th>\n",
       "    </tr>\n",
       "  </thead>\n",
       "  <tbody>\n",
       "    <tr>\n",
       "      <th>0</th>\n",
       "      <td>PUFPaY9KxDAcGqfsorJp3Q</td>\n",
       "      <td>Ya85v4eqdd6k9Od8HbQjyA</td>\n",
       "      <td>Mr Hoagie is an institution. Walking in, it do...</td>\n",
       "      <td>0</td>\n",
       "      <td>5UmKMjUEUNdYWqANhGckJw</td>\n",
       "      <td>0</td>\n",
       "      <td>4</td>\n",
       "      <td>2012-08-01</td>\n",
       "      <td>review</td>\n",
       "      <td>0</td>\n",
       "    </tr>\n",
       "    <tr>\n",
       "      <th>1</th>\n",
       "      <td>Iu6AxdBYGR4A0wspR9BYHA</td>\n",
       "      <td>KPvLNJ21_4wbYNctrOwWdQ</td>\n",
       "      <td>Excellent food. Superb customer service. I mis...</td>\n",
       "      <td>0</td>\n",
       "      <td>5UmKMjUEUNdYWqANhGckJw</td>\n",
       "      <td>0</td>\n",
       "      <td>5</td>\n",
       "      <td>2014-02-13</td>\n",
       "      <td>review</td>\n",
       "      <td>0</td>\n",
       "    </tr>\n",
       "    <tr>\n",
       "      <th>2</th>\n",
       "      <td>auESFwWvW42h6alXgFxAXQ</td>\n",
       "      <td>fFSoGV46Yxuwbr3fHNuZig</td>\n",
       "      <td>Yes this place is a little out dated and not o...</td>\n",
       "      <td>0</td>\n",
       "      <td>5UmKMjUEUNdYWqANhGckJw</td>\n",
       "      <td>0</td>\n",
       "      <td>5</td>\n",
       "      <td>2015-10-31</td>\n",
       "      <td>review</td>\n",
       "      <td>0</td>\n",
       "    </tr>\n",
       "    <tr>\n",
       "      <th>3</th>\n",
       "      <td>uK8tzraOp4M5u3uYrqIBXg</td>\n",
       "      <td>Di3exaUCFNw1V4kSNW5pgA</td>\n",
       "      <td>All the food is great here. But the best thing...</td>\n",
       "      <td>0</td>\n",
       "      <td>UsFtqoBl7naz8AVUBZMjQQ</td>\n",
       "      <td>0</td>\n",
       "      <td>5</td>\n",
       "      <td>2013-11-08</td>\n",
       "      <td>review</td>\n",
       "      <td>0</td>\n",
       "    </tr>\n",
       "    <tr>\n",
       "      <th>4</th>\n",
       "      <td>I_47G-R2_egp7ME5u_ltew</td>\n",
       "      <td>0Lua2-PbqEQMjD9r89-asw</td>\n",
       "      <td>We checked this place out this past Monday for...</td>\n",
       "      <td>0</td>\n",
       "      <td>UsFtqoBl7naz8AVUBZMjQQ</td>\n",
       "      <td>0</td>\n",
       "      <td>3</td>\n",
       "      <td>2014-03-29</td>\n",
       "      <td>review</td>\n",
       "      <td>0</td>\n",
       "    </tr>\n",
       "  </tbody>\n",
       "</table>\n",
       "</div>"
      ],
      "text/plain": [
       "                  user_id               review_id  \\\n",
       "0  PUFPaY9KxDAcGqfsorJp3Q  Ya85v4eqdd6k9Od8HbQjyA   \n",
       "1  Iu6AxdBYGR4A0wspR9BYHA  KPvLNJ21_4wbYNctrOwWdQ   \n",
       "2  auESFwWvW42h6alXgFxAXQ  fFSoGV46Yxuwbr3fHNuZig   \n",
       "3  uK8tzraOp4M5u3uYrqIBXg  Di3exaUCFNw1V4kSNW5pgA   \n",
       "4  I_47G-R2_egp7ME5u_ltew  0Lua2-PbqEQMjD9r89-asw   \n",
       "\n",
       "                                                text  votes.cool  \\\n",
       "0  Mr Hoagie is an institution. Walking in, it do...           0   \n",
       "1  Excellent food. Superb customer service. I mis...           0   \n",
       "2  Yes this place is a little out dated and not o...           0   \n",
       "3  All the food is great here. But the best thing...           0   \n",
       "4  We checked this place out this past Monday for...           0   \n",
       "\n",
       "              business_id  votes.funny  stars        date    type  \\\n",
       "0  5UmKMjUEUNdYWqANhGckJw            0      4  2012-08-01  review   \n",
       "1  5UmKMjUEUNdYWqANhGckJw            0      5  2014-02-13  review   \n",
       "2  5UmKMjUEUNdYWqANhGckJw            0      5  2015-10-31  review   \n",
       "3  UsFtqoBl7naz8AVUBZMjQQ            0      5  2013-11-08  review   \n",
       "4  UsFtqoBl7naz8AVUBZMjQQ            0      3  2014-03-29  review   \n",
       "\n",
       "   votes.useful  \n",
       "0             0  \n",
       "1             0  \n",
       "2             0  \n",
       "3             0  \n",
       "4             0  "
      ]
     },
     "execution_count": 55,
     "metadata": {},
     "output_type": "execute_result"
    }
   ],
   "source": [
    "review = pd.read_csv('csv/yelp_academic_dataset_review.csv')\n",
    "review.head()"
   ]
  },
  {
   "cell_type": "markdown",
   "metadata": {
    "collapsed": false
   },
   "source": [
    "Sum up all the types of votes for each business"
   ]
  },
  {
   "cell_type": "code",
   "execution_count": 56,
   "metadata": {
    "collapsed": false
   },
   "outputs": [],
   "source": [
    "review_votes_by_business = review.groupby(by='business_id')[['votes.cool','votes.funny','votes.useful']].sum()\n",
    "review_votes_by_business['total_votes'] = review_votes_by_business.sum(axis=1)"
   ]
  },
  {
   "cell_type": "markdown",
   "metadata": {},
   "source": [
    "Find the average time between reviews for each business"
   ]
  },
  {
   "cell_type": "code",
   "execution_count": 58,
   "metadata": {
    "collapsed": false
   },
   "outputs": [
    {
     "name": "stderr",
     "output_type": "stream",
     "text": [
      "100%|██████████| 77079/77079 [08:32<00:00, 150.40it/s]\n"
     ]
    }
   ],
   "source": [
    "reviews_by_business = review.groupby(by='business_id')\n",
    "business_ids = set(review.business_id)\n",
    "avg_time_btw_reviews = []\n",
    "\n",
    "for i in tqdm(business_ids):\n",
    "    group = reviews_by_business.get_group(i)\n",
    "    dates = sorted(group.date.values)\n",
    "    diffs = []\n",
    "    if len(dates) > 1:\n",
    "        for d in range(len(dates)-1):\n",
    "            days_btw = (pd.to_datetime(dates[d+1]) - pd.to_datetime(dates[d]))\n",
    "            diffs.append(days_btw.components.days)\n",
    "        mean = sum(diffs) / len(diffs)\n",
    "        avg_time_btw_reviews.append((i,mean))\n",
    "    else:\n",
    "        continue"
   ]
  },
  {
   "cell_type": "code",
   "execution_count": 59,
   "metadata": {
    "collapsed": false
   },
   "outputs": [
    {
     "data": {
      "text/plain": [
       "[('SNpVV5viJ2aPylP6bkAx8Q', 90),\n",
       " ('_qvxFHGbnbrAPeWBVifJEQ', 96),\n",
       " ('vuki3_Z5ryc8VmgUTkVF_g', 232),\n",
       " ('s5yzZITWU_RcJzWOgjFecw', 28),\n",
       " ('Ym_tcWP7kAQ_0u_gsjTUQQ', 93)]"
      ]
     },
     "execution_count": 59,
     "metadata": {},
     "output_type": "execute_result"
    }
   ],
   "source": [
    "avg_time_btw_reviews[:5]"
   ]
  },
  {
   "cell_type": "markdown",
   "metadata": {},
   "source": [
    "Find the average length of reviews"
   ]
  },
  {
   "cell_type": "code",
   "execution_count": 60,
   "metadata": {
    "collapsed": false,
    "scrolled": true
   },
   "outputs": [
    {
     "name": "stderr",
     "output_type": "stream",
     "text": [
      "100%|██████████| 77079/77079 [00:35<00:00, 2184.98it/s]\n"
     ]
    }
   ],
   "source": [
    "avg_review_length = []\n",
    "for i in tqdm(business_ids):\n",
    "    group = reviews_by_business.get_group(i)\n",
    "    review_texts = group.text.values\n",
    "    lengths = []\n",
    "    if len(review_texts) > 0:\n",
    "        for r in review_texts:\n",
    "            lengths.append(len(r))\n",
    "        mean = sum(lengths) / len(lengths)\n",
    "        avg_review_length.append((i,mean))\n",
    "    else:\n",
    "        continue"
   ]
  },
  {
   "cell_type": "code",
   "execution_count": 61,
   "metadata": {
    "collapsed": false
   },
   "outputs": [
    {
     "data": {
      "text/plain": [
       "[('SNpVV5viJ2aPylP6bkAx8Q', 493),\n",
       " ('_qvxFHGbnbrAPeWBVifJEQ', 427),\n",
       " ('vuki3_Z5ryc8VmgUTkVF_g', 299),\n",
       " ('s5yzZITWU_RcJzWOgjFecw', 754),\n",
       " ('Ym_tcWP7kAQ_0u_gsjTUQQ', 445)]"
      ]
     },
     "execution_count": 61,
     "metadata": {},
     "output_type": "execute_result"
    }
   ],
   "source": [
    "avg_review_length[:5]"
   ]
  },
  {
   "cell_type": "markdown",
   "metadata": {},
   "source": [
    "Combine all selected features into one dataframe"
   ]
  },
  {
   "cell_type": "code",
   "execution_count": 62,
   "metadata": {
    "collapsed": false
   },
   "outputs": [
    {
     "data": {
      "text/html": [
       "<div>\n",
       "<table border=\"1\" class=\"dataframe\">\n",
       "  <thead>\n",
       "    <tr style=\"text-align: right;\">\n",
       "      <th></th>\n",
       "      <th>business_id</th>\n",
       "      <th>avg_time_btw_reviews</th>\n",
       "      <th>avg_review_length</th>\n",
       "      <th>votes.cool</th>\n",
       "      <th>votes.funny</th>\n",
       "      <th>votes.useful</th>\n",
       "      <th>total_votes</th>\n",
       "    </tr>\n",
       "  </thead>\n",
       "  <tbody>\n",
       "    <tr>\n",
       "      <th>0</th>\n",
       "      <td>SNpVV5viJ2aPylP6bkAx8Q</td>\n",
       "      <td>90</td>\n",
       "      <td>493</td>\n",
       "      <td>15</td>\n",
       "      <td>15</td>\n",
       "      <td>20</td>\n",
       "      <td>50</td>\n",
       "    </tr>\n",
       "    <tr>\n",
       "      <th>1</th>\n",
       "      <td>_qvxFHGbnbrAPeWBVifJEQ</td>\n",
       "      <td>96</td>\n",
       "      <td>427</td>\n",
       "      <td>3</td>\n",
       "      <td>10</td>\n",
       "      <td>9</td>\n",
       "      <td>22</td>\n",
       "    </tr>\n",
       "    <tr>\n",
       "      <th>2</th>\n",
       "      <td>vuki3_Z5ryc8VmgUTkVF_g</td>\n",
       "      <td>232</td>\n",
       "      <td>299</td>\n",
       "      <td>0</td>\n",
       "      <td>1</td>\n",
       "      <td>0</td>\n",
       "      <td>1</td>\n",
       "    </tr>\n",
       "    <tr>\n",
       "      <th>3</th>\n",
       "      <td>s5yzZITWU_RcJzWOgjFecw</td>\n",
       "      <td>28</td>\n",
       "      <td>754</td>\n",
       "      <td>36</td>\n",
       "      <td>23</td>\n",
       "      <td>78</td>\n",
       "      <td>137</td>\n",
       "    </tr>\n",
       "    <tr>\n",
       "      <th>4</th>\n",
       "      <td>Ym_tcWP7kAQ_0u_gsjTUQQ</td>\n",
       "      <td>93</td>\n",
       "      <td>445</td>\n",
       "      <td>2</td>\n",
       "      <td>1</td>\n",
       "      <td>4</td>\n",
       "      <td>7</td>\n",
       "    </tr>\n",
       "  </tbody>\n",
       "</table>\n",
       "</div>"
      ],
      "text/plain": [
       "              business_id  avg_time_btw_reviews  avg_review_length  \\\n",
       "0  SNpVV5viJ2aPylP6bkAx8Q                    90                493   \n",
       "1  _qvxFHGbnbrAPeWBVifJEQ                    96                427   \n",
       "2  vuki3_Z5ryc8VmgUTkVF_g                   232                299   \n",
       "3  s5yzZITWU_RcJzWOgjFecw                    28                754   \n",
       "4  Ym_tcWP7kAQ_0u_gsjTUQQ                    93                445   \n",
       "\n",
       "   votes.cool  votes.funny  votes.useful  total_votes  \n",
       "0          15           15            20           50  \n",
       "1           3           10             9           22  \n",
       "2           0            1             0            1  \n",
       "3          36           23            78          137  \n",
       "4           2            1             4            7  "
      ]
     },
     "execution_count": 62,
     "metadata": {},
     "output_type": "execute_result"
    }
   ],
   "source": [
    "r1 = pd.DataFrame(avg_time_btw_reviews, columns=['business_id','avg_time_btw_reviews'])\n",
    "r2 = pd.DataFrame(avg_review_length, columns=['business_id','avg_review_length'])\n",
    "r3 = r1.merge(r2, right_on='business_id', left_on='business_id')\n",
    "review_short = r3.merge(review_votes_by_business, left_on = 'business_id', right_index=True)\n",
    "review_short.head()"
   ]
  },
  {
   "cell_type": "markdown",
   "metadata": {},
   "source": [
    "Pickle if necessary"
   ]
  },
  {
   "cell_type": "code",
   "execution_count": null,
   "metadata": {
    "collapsed": true
   },
   "outputs": [],
   "source": [
    "with open('pickle/review.pickle', 'wb') as handle:\n",
    "    pickle.dump(review_short, handle)"
   ]
  },
  {
   "cell_type": "markdown",
   "metadata": {},
   "source": [
    "## User Data"
   ]
  },
  {
   "cell_type": "code",
   "execution_count": 63,
   "metadata": {
    "collapsed": false
   },
   "outputs": [
    {
     "data": {
      "text/html": [
       "<div>\n",
       "<table border=\"1\" class=\"dataframe\">\n",
       "  <thead>\n",
       "    <tr style=\"text-align: right;\">\n",
       "      <th></th>\n",
       "      <th>yelping_since</th>\n",
       "      <th>compliments.plain</th>\n",
       "      <th>review_count</th>\n",
       "      <th>friends</th>\n",
       "      <th>compliments.cute</th>\n",
       "      <th>compliments.writer</th>\n",
       "      <th>fans</th>\n",
       "      <th>compliments.note</th>\n",
       "      <th>type</th>\n",
       "      <th>compliments.hot</th>\n",
       "      <th>compliments.cool</th>\n",
       "      <th>compliments.profile</th>\n",
       "      <th>average_stars</th>\n",
       "      <th>compliments.more</th>\n",
       "      <th>elite</th>\n",
       "      <th>name</th>\n",
       "      <th>user_id</th>\n",
       "      <th>votes.cool</th>\n",
       "      <th>compliments.list</th>\n",
       "      <th>votes.funny</th>\n",
       "      <th>compliments.photos</th>\n",
       "      <th>compliments.funny</th>\n",
       "      <th>votes.useful</th>\n",
       "    </tr>\n",
       "  </thead>\n",
       "  <tbody>\n",
       "    <tr>\n",
       "      <th>0</th>\n",
       "      <td>2004-10</td>\n",
       "      <td>25.0</td>\n",
       "      <td>108</td>\n",
       "      <td>['rpOyqD_893cqmDAtJLbdog', '4U9kSBLuBDU391x6bx...</td>\n",
       "      <td>15.0</td>\n",
       "      <td>9.0</td>\n",
       "      <td>70</td>\n",
       "      <td>20.0</td>\n",
       "      <td>user</td>\n",
       "      <td>48.0</td>\n",
       "      <td>78.0</td>\n",
       "      <td>8.0</td>\n",
       "      <td>4.14</td>\n",
       "      <td>3.0</td>\n",
       "      <td>[2005, 2006]</td>\n",
       "      <td>Russel</td>\n",
       "      <td>18kPq7GPye-YQ3LyKyAZPw</td>\n",
       "      <td>245</td>\n",
       "      <td>NaN</td>\n",
       "      <td>167</td>\n",
       "      <td>14.0</td>\n",
       "      <td>11.0</td>\n",
       "      <td>280</td>\n",
       "    </tr>\n",
       "    <tr>\n",
       "      <th>1</th>\n",
       "      <td>2004-10</td>\n",
       "      <td>959.0</td>\n",
       "      <td>1274</td>\n",
       "      <td>['18kPq7GPye-YQ3LyKyAZPw', '4U9kSBLuBDU391x6bx...</td>\n",
       "      <td>206.0</td>\n",
       "      <td>327.0</td>\n",
       "      <td>1179</td>\n",
       "      <td>611.0</td>\n",
       "      <td>user</td>\n",
       "      <td>1094.0</td>\n",
       "      <td>1642.0</td>\n",
       "      <td>116.0</td>\n",
       "      <td>3.66</td>\n",
       "      <td>134.0</td>\n",
       "      <td>[2005, 2006, 2007, 2008, 2009, 2010, 2011, 201...</td>\n",
       "      <td>Jeremy</td>\n",
       "      <td>rpOyqD_893cqmDAtJLbdog</td>\n",
       "      <td>11093</td>\n",
       "      <td>38.0</td>\n",
       "      <td>7681</td>\n",
       "      <td>330.0</td>\n",
       "      <td>580.0</td>\n",
       "      <td>14199</td>\n",
       "    </tr>\n",
       "    <tr>\n",
       "      <th>2</th>\n",
       "      <td>2004-10</td>\n",
       "      <td>89.0</td>\n",
       "      <td>442</td>\n",
       "      <td>['18kPq7GPye-YQ3LyKyAZPw', 'rpOyqD_893cqmDAtJL...</td>\n",
       "      <td>23.0</td>\n",
       "      <td>24.0</td>\n",
       "      <td>100</td>\n",
       "      <td>83.0</td>\n",
       "      <td>user</td>\n",
       "      <td>101.0</td>\n",
       "      <td>145.0</td>\n",
       "      <td>9.0</td>\n",
       "      <td>3.60</td>\n",
       "      <td>19.0</td>\n",
       "      <td>[2005, 2006, 2007, 2008, 2009, 2010, 2011, 201...</td>\n",
       "      <td>Michael</td>\n",
       "      <td>4U9kSBLuBDU391x6bxU-YA</td>\n",
       "      <td>732</td>\n",
       "      <td>4.0</td>\n",
       "      <td>908</td>\n",
       "      <td>24.0</td>\n",
       "      <td>120.0</td>\n",
       "      <td>1483</td>\n",
       "    </tr>\n",
       "    <tr>\n",
       "      <th>3</th>\n",
       "      <td>2004-10</td>\n",
       "      <td>NaN</td>\n",
       "      <td>11</td>\n",
       "      <td>['18kPq7GPye-YQ3LyKyAZPw', 'rpOyqD_893cqmDAtJL...</td>\n",
       "      <td>2.0</td>\n",
       "      <td>NaN</td>\n",
       "      <td>2</td>\n",
       "      <td>NaN</td>\n",
       "      <td>user</td>\n",
       "      <td>NaN</td>\n",
       "      <td>NaN</td>\n",
       "      <td>NaN</td>\n",
       "      <td>4.64</td>\n",
       "      <td>NaN</td>\n",
       "      <td>[]</td>\n",
       "      <td>Ken</td>\n",
       "      <td>fHtTaujcyKvXglE33Z5yIw</td>\n",
       "      <td>5</td>\n",
       "      <td>NaN</td>\n",
       "      <td>1</td>\n",
       "      <td>NaN</td>\n",
       "      <td>NaN</td>\n",
       "      <td>11</td>\n",
       "    </tr>\n",
       "    <tr>\n",
       "      <th>4</th>\n",
       "      <td>2004-10</td>\n",
       "      <td>2.0</td>\n",
       "      <td>66</td>\n",
       "      <td>['rpOyqD_893cqmDAtJLbdog', 'HDQixQ-WZEV0LVPJlI...</td>\n",
       "      <td>2.0</td>\n",
       "      <td>2.0</td>\n",
       "      <td>4</td>\n",
       "      <td>1.0</td>\n",
       "      <td>user</td>\n",
       "      <td>1.0</td>\n",
       "      <td>1.0</td>\n",
       "      <td>NaN</td>\n",
       "      <td>3.80</td>\n",
       "      <td>1.0</td>\n",
       "      <td>[2005]</td>\n",
       "      <td>Katherine</td>\n",
       "      <td>SIBCL7HBkrP4llolm4SC2A</td>\n",
       "      <td>13</td>\n",
       "      <td>NaN</td>\n",
       "      <td>11</td>\n",
       "      <td>NaN</td>\n",
       "      <td>NaN</td>\n",
       "      <td>34</td>\n",
       "    </tr>\n",
       "  </tbody>\n",
       "</table>\n",
       "</div>"
      ],
      "text/plain": [
       "  yelping_since  compliments.plain  review_count  \\\n",
       "0       2004-10               25.0           108   \n",
       "1       2004-10              959.0          1274   \n",
       "2       2004-10               89.0           442   \n",
       "3       2004-10                NaN            11   \n",
       "4       2004-10                2.0            66   \n",
       "\n",
       "                                             friends  compliments.cute  \\\n",
       "0  ['rpOyqD_893cqmDAtJLbdog', '4U9kSBLuBDU391x6bx...              15.0   \n",
       "1  ['18kPq7GPye-YQ3LyKyAZPw', '4U9kSBLuBDU391x6bx...             206.0   \n",
       "2  ['18kPq7GPye-YQ3LyKyAZPw', 'rpOyqD_893cqmDAtJL...              23.0   \n",
       "3  ['18kPq7GPye-YQ3LyKyAZPw', 'rpOyqD_893cqmDAtJL...               2.0   \n",
       "4  ['rpOyqD_893cqmDAtJLbdog', 'HDQixQ-WZEV0LVPJlI...               2.0   \n",
       "\n",
       "   compliments.writer  fans  compliments.note  type  compliments.hot  \\\n",
       "0                 9.0    70              20.0  user             48.0   \n",
       "1               327.0  1179             611.0  user           1094.0   \n",
       "2                24.0   100              83.0  user            101.0   \n",
       "3                 NaN     2               NaN  user              NaN   \n",
       "4                 2.0     4               1.0  user              1.0   \n",
       "\n",
       "   compliments.cool  compliments.profile  average_stars  compliments.more  \\\n",
       "0              78.0                  8.0           4.14               3.0   \n",
       "1            1642.0                116.0           3.66             134.0   \n",
       "2             145.0                  9.0           3.60              19.0   \n",
       "3               NaN                  NaN           4.64               NaN   \n",
       "4               1.0                  NaN           3.80               1.0   \n",
       "\n",
       "                                               elite       name  \\\n",
       "0                                       [2005, 2006]     Russel   \n",
       "1  [2005, 2006, 2007, 2008, 2009, 2010, 2011, 201...     Jeremy   \n",
       "2  [2005, 2006, 2007, 2008, 2009, 2010, 2011, 201...    Michael   \n",
       "3                                                 []        Ken   \n",
       "4                                             [2005]  Katherine   \n",
       "\n",
       "                  user_id  votes.cool  compliments.list  votes.funny  \\\n",
       "0  18kPq7GPye-YQ3LyKyAZPw         245               NaN          167   \n",
       "1  rpOyqD_893cqmDAtJLbdog       11093              38.0         7681   \n",
       "2  4U9kSBLuBDU391x6bxU-YA         732               4.0          908   \n",
       "3  fHtTaujcyKvXglE33Z5yIw           5               NaN            1   \n",
       "4  SIBCL7HBkrP4llolm4SC2A          13               NaN           11   \n",
       "\n",
       "   compliments.photos  compliments.funny  votes.useful  \n",
       "0                14.0               11.0           280  \n",
       "1               330.0              580.0         14199  \n",
       "2                24.0              120.0          1483  \n",
       "3                 NaN                NaN            11  \n",
       "4                 NaN                NaN            34  "
      ]
     },
     "execution_count": 63,
     "metadata": {},
     "output_type": "execute_result"
    }
   ],
   "source": [
    "user = pd.read_csv('csv/yelp_academic_dataset_user.csv')\n",
    "pd.options.display.max_columns = 100 \n",
    "user.head()"
   ]
  },
  {
   "cell_type": "markdown",
   "metadata": {
    "collapsed": false
   },
   "source": [
    "Create and extract features from the User data for a given business, including: <br/>\n",
    "1. the average number of compliments given to a business' reviewers\n",
    "2. the average number of a business' reviewers who are elite\n",
    "3. the average number of friends had by a business' reviewers\n",
    "4. the average number of reviews written (on Yelp) by a business' reviewers \n",
    "5. the average number of fans had by a business' reviewers"
   ]
  },
  {
   "cell_type": "code",
   "execution_count": null,
   "metadata": {
    "collapsed": false,
    "scrolled": true
   },
   "outputs": [],
   "source": [
    "user_avg_num_compliments = []\n",
    "user_num_elite = []\n",
    "user_avg_num_friends = []\n",
    "user_avg_review_count = []\n",
    "user_avg_num_fans = []\n",
    "\n",
    "comp_list = ['compliments.plain', 'compliments.cute', 'compliments.writer', 'compliments.note', \n",
    "            'compliments.hot', 'compliments.cool', 'compliments.profile', 'compliments.more', \n",
    "            'compliments.list', 'compliments.photos','compliments.funny']\n",
    "\n",
    "for i in tqdm(business_ids):\n",
    "    group = reviews_by_business.get_group(i)\n",
    "    users = group.user_id.values\n",
    "    \n",
    "    compliments = []\n",
    "    elite = []\n",
    "    friends = []\n",
    "    reviews = []\n",
    "    fans = []\n",
    "    \n",
    "    for u in users:\n",
    "        data = user[user.user_id == u]\n",
    "        \n",
    "        # Number of compliments\n",
    "        try:\n",
    "            compliments.append(int(data[comp_list].sum(axis=1).values[0]))\n",
    "        except:\n",
    "            pass\n",
    "        \n",
    "        # If elite\n",
    "        date_of_review = group[group.user_id == u].date.values[0][:4]\n",
    "        elite_dates_raw = data.elite.values[0].strip('[]').split(',')\n",
    "        elite_dates = []\n",
    "        for s in elite_dates_raw:\n",
    "            s = s.strip()\n",
    "            elite_dates.append(s)\n",
    "        elite.append(date_of_review in elite_dates)\n",
    "        \n",
    "        # Number of friends\n",
    "        friends_data_raw = data.friends.values[0].strip('[]').split(',')\n",
    "        friends.append(len(friends_data_raw))\n",
    "        \n",
    "        # Number of reviews\n",
    "        reviews.append(int(data.review_count.values[0]))\n",
    "        \n",
    "        # Number of fans \n",
    "        fans.append(int(data.fans.values[0]))\n",
    "    \n",
    "    user_num_elite.append((i, sum(elite)))\n",
    "    if len(compliments) > 0:\n",
    "        user_avg_num_compliments.append((i, sum(compliments)/len(compliments)))\n",
    "    if len(friends) > 0:\n",
    "        user_avg_num_friends.append((i, sum(friends)/len(friends)))\n",
    "    if len(reviews) > 0:\n",
    "        user_avg_review_count.append((i, sum(reviews)/len(reviews)))\n",
    "    if len(fans) > 0:\n",
    "        user_avg_num_fans.append((i, sum(fans)/len(fans)))"
   ]
  },
  {
   "cell_type": "code",
   "execution_count": null,
   "metadata": {
    "collapsed": false
   },
   "outputs": [],
   "source": [
    "print user_avg_num_compliments[:5]\n",
    "print '------'\n",
    "print user_num_elite[:5]\n",
    "print '------'\n",
    "print user_avg_num_friends[:5]\n",
    "print '------'\n",
    "print user_avg_review_count[:5]\n",
    "print '------'\n",
    "print user_avg_num_fans[:5]"
   ]
  },
  {
   "cell_type": "markdown",
   "metadata": {},
   "source": [
    "Put all features into a single dataframe"
   ]
  },
  {
   "cell_type": "code",
   "execution_count": null,
   "metadata": {
    "collapsed": true
   },
   "outputs": [],
   "source": [
    "u1 = pd.DataFrame(user_avg_num_compliments, columns=['business_id','user_avg_num_compliments'])\n",
    "u2 = pd.DataFrame(user_num_elite, columns=['business_id','user_num_elite'])\n",
    "u3 = pd.DataFrame(user_avg_num_friends, columns=['business_id','user_avg_num_friends'])\n",
    "u4 = pd.DataFrame(user_avg_review_count, columns=['business_id','user_avg_review_count'])\n",
    "u5 = pd.DataFrame(user_avg_num_fans, columns=['business_id','user_avg_num_fans'])\n",
    "\n",
    "u6 = u1.merge(u2, left_on='business_id', right_on='business_id')\n",
    "u7 = u6.merge(u3, left_on='business_id', right_on='business_id')\n",
    "u8 = u7.merge(u4, left_on='business_id', right_on='business_id')\n",
    "u9 = u8.merge(u5, left_on='business_id', right_on='business_id')"
   ]
  },
  {
   "cell_type": "markdown",
   "metadata": {},
   "source": [
    "Pickle if necessary"
   ]
  },
  {
   "cell_type": "code",
   "execution_count": null,
   "metadata": {
    "collapsed": true
   },
   "outputs": [],
   "source": [
    "with open('pickle/user.pickle', 'wb') as handle:\n",
    "    pickle.dump(u9, handle)"
   ]
  },
  {
   "cell_type": "markdown",
   "metadata": {},
   "source": [
    "Example output from above code:"
   ]
  },
  {
   "cell_type": "code",
   "execution_count": 64,
   "metadata": {
    "collapsed": false
   },
   "outputs": [
    {
     "data": {
      "text/html": [
       "<div>\n",
       "<table border=\"1\" class=\"dataframe\">\n",
       "  <thead>\n",
       "    <tr style=\"text-align: right;\">\n",
       "      <th></th>\n",
       "      <th>business_id</th>\n",
       "      <th>user_avg_num_compliments</th>\n",
       "      <th>user_num_elite</th>\n",
       "      <th>user_avg_num_friends</th>\n",
       "      <th>user_avg_review_count</th>\n",
       "      <th>user_avg_num_fans</th>\n",
       "    </tr>\n",
       "  </thead>\n",
       "  <tbody>\n",
       "    <tr>\n",
       "      <th>0</th>\n",
       "      <td>SNpVV5viJ2aPylP6bkAx8Q</td>\n",
       "      <td>79</td>\n",
       "      <td>4</td>\n",
       "      <td>30</td>\n",
       "      <td>129</td>\n",
       "      <td>3</td>\n",
       "    </tr>\n",
       "    <tr>\n",
       "      <th>1</th>\n",
       "      <td>_qvxFHGbnbrAPeWBVifJEQ</td>\n",
       "      <td>37</td>\n",
       "      <td>5</td>\n",
       "      <td>8</td>\n",
       "      <td>78</td>\n",
       "      <td>2</td>\n",
       "    </tr>\n",
       "    <tr>\n",
       "      <th>2</th>\n",
       "      <td>vuki3_Z5ryc8VmgUTkVF_g</td>\n",
       "      <td>1</td>\n",
       "      <td>0</td>\n",
       "      <td>1</td>\n",
       "      <td>9</td>\n",
       "      <td>0</td>\n",
       "    </tr>\n",
       "    <tr>\n",
       "      <th>3</th>\n",
       "      <td>s5yzZITWU_RcJzWOgjFecw</td>\n",
       "      <td>151</td>\n",
       "      <td>6</td>\n",
       "      <td>18</td>\n",
       "      <td>61</td>\n",
       "      <td>2</td>\n",
       "    </tr>\n",
       "    <tr>\n",
       "      <th>4</th>\n",
       "      <td>Ym_tcWP7kAQ_0u_gsjTUQQ</td>\n",
       "      <td>67</td>\n",
       "      <td>3</td>\n",
       "      <td>18</td>\n",
       "      <td>80</td>\n",
       "      <td>3</td>\n",
       "    </tr>\n",
       "  </tbody>\n",
       "</table>\n",
       "</div>"
      ],
      "text/plain": [
       "              business_id  user_avg_num_compliments  user_num_elite  \\\n",
       "0  SNpVV5viJ2aPylP6bkAx8Q                        79               4   \n",
       "1  _qvxFHGbnbrAPeWBVifJEQ                        37               5   \n",
       "2  vuki3_Z5ryc8VmgUTkVF_g                         1               0   \n",
       "3  s5yzZITWU_RcJzWOgjFecw                       151               6   \n",
       "4  Ym_tcWP7kAQ_0u_gsjTUQQ                        67               3   \n",
       "\n",
       "   user_avg_num_friends  user_avg_review_count  user_avg_num_fans  \n",
       "0                    30                    129                  3  \n",
       "1                     8                     78                  2  \n",
       "2                     1                      9                  0  \n",
       "3                    18                     61                  2  \n",
       "4                    18                     80                  3  "
      ]
     },
     "execution_count": 64,
     "metadata": {},
     "output_type": "execute_result"
    }
   ],
   "source": [
    "with open('pickle/user.pickle', 'rb') as handle:\n",
    "    user_features = pickle.load(handle)\n",
    "    \n",
    "user_features.head()"
   ]
  },
  {
   "cell_type": "markdown",
   "metadata": {},
   "source": [
    "## Photo Data"
   ]
  },
  {
   "cell_type": "code",
   "execution_count": 65,
   "metadata": {
    "collapsed": true
   },
   "outputs": [],
   "source": [
    "with open('json/photo_id_to_business_id.json','r') as f:\n",
    "    json = f.read()\n",
    "json_list = json.split('}')"
   ]
  },
  {
   "cell_type": "markdown",
   "metadata": {},
   "source": [
    "Count the number of photos for each business"
   ]
  },
  {
   "cell_type": "code",
   "execution_count": 66,
   "metadata": {
    "collapsed": true
   },
   "outputs": [],
   "source": [
    "counter = defaultdict(int)\n",
    "for photo in json_list:\n",
    "    bi = re.findall('(?<=\"business_id\":\").*?(?=\",\"caption\")', photo)\n",
    "    if bi:\n",
    "        counter[bi[0]] += 1"
   ]
  },
  {
   "cell_type": "markdown",
   "metadata": {},
   "source": [
    "Reformat into standard dataframe where business is its its own column"
   ]
  },
  {
   "cell_type": "code",
   "execution_count": 67,
   "metadata": {
    "collapsed": false
   },
   "outputs": [
    {
     "data": {
      "text/html": [
       "<div>\n",
       "<table border=\"1\" class=\"dataframe\">\n",
       "  <thead>\n",
       "    <tr style=\"text-align: right;\">\n",
       "      <th></th>\n",
       "      <th>num_photos</th>\n",
       "      <th>business_id</th>\n",
       "    </tr>\n",
       "  </thead>\n",
       "  <tbody>\n",
       "    <tr>\n",
       "      <th>0</th>\n",
       "      <td>10</td>\n",
       "      <td>OlpyplEJ_c_hFxyand_Wxw</td>\n",
       "    </tr>\n",
       "    <tr>\n",
       "      <th>1</th>\n",
       "      <td>1</td>\n",
       "      <td>_qvxFHGbnbrAPeWBVifJEQ</td>\n",
       "    </tr>\n",
       "    <tr>\n",
       "      <th>2</th>\n",
       "      <td>6</td>\n",
       "      <td>s5yzZITWU_RcJzWOgjFecw</td>\n",
       "    </tr>\n",
       "    <tr>\n",
       "      <th>3</th>\n",
       "      <td>1</td>\n",
       "      <td>icGm4nN43m2fz0iWu7dYCQ</td>\n",
       "    </tr>\n",
       "    <tr>\n",
       "      <th>4</th>\n",
       "      <td>8</td>\n",
       "      <td>osixLFHD7OKEUy2HSbN-7Q</td>\n",
       "    </tr>\n",
       "  </tbody>\n",
       "</table>\n",
       "</div>"
      ],
      "text/plain": [
       "   num_photos             business_id\n",
       "0          10  OlpyplEJ_c_hFxyand_Wxw\n",
       "1           1  _qvxFHGbnbrAPeWBVifJEQ\n",
       "2           6  s5yzZITWU_RcJzWOgjFecw\n",
       "3           1  icGm4nN43m2fz0iWu7dYCQ\n",
       "4           8  osixLFHD7OKEUy2HSbN-7Q"
      ]
     },
     "execution_count": 67,
     "metadata": {},
     "output_type": "execute_result"
    }
   ],
   "source": [
    "photos = pd.DataFrame.from_dict(counter, orient='index')\n",
    "photos.rename(columns= {0: 'num_photos'}, inplace=True)\n",
    "photos['business_id'] = photos.index\n",
    "photos.reset_index(level=0, drop=True, inplace=True)\n",
    "photos.head()"
   ]
  },
  {
   "cell_type": "markdown",
   "metadata": {},
   "source": [
    "## Combine all dataframes\n",
    "Below is a series of merge operations and some reformatting so that the result is a single dataframe (**total**) containing all the chosen features from the Yelp dataset"
   ]
  },
  {
   "cell_type": "code",
   "execution_count": 72,
   "metadata": {
    "collapsed": false
   },
   "outputs": [
    {
     "data": {
      "text/html": [
       "<div>\n",
       "<table border=\"1\" class=\"dataframe\">\n",
       "  <thead>\n",
       "    <tr style=\"text-align: right;\">\n",
       "      <th></th>\n",
       "      <th>business_id</th>\n",
       "      <th>name</th>\n",
       "      <th>category_main</th>\n",
       "      <th>city</th>\n",
       "      <th>state</th>\n",
       "      <th>latitude</th>\n",
       "      <th>longitude</th>\n",
       "      <th>review_count</th>\n",
       "      <th>stars</th>\n",
       "      <th>total</th>\n",
       "      <th>num_tips</th>\n",
       "      <th>avg_time_btw_reviews</th>\n",
       "      <th>avg_review_length</th>\n",
       "      <th>votes.cool</th>\n",
       "      <th>votes.funny</th>\n",
       "      <th>votes.useful</th>\n",
       "      <th>total_votes</th>\n",
       "      <th>user_avg_num_compliments</th>\n",
       "      <th>user_num_elite</th>\n",
       "      <th>user_avg_num_friends</th>\n",
       "      <th>user_avg_review_count</th>\n",
       "      <th>user_avg_num_fans</th>\n",
       "      <th>num_photos</th>\n",
       "    </tr>\n",
       "  </thead>\n",
       "  <tbody>\n",
       "    <tr>\n",
       "      <th>0</th>\n",
       "      <td>5UmKMjUEUNdYWqANhGckJw</td>\n",
       "      <td>Mr Hoagie</td>\n",
       "      <td>Restaurants</td>\n",
       "      <td>Dravosburg</td>\n",
       "      <td>PA</td>\n",
       "      <td>40.354327</td>\n",
       "      <td>-79.900706</td>\n",
       "      <td>4</td>\n",
       "      <td>4.5</td>\n",
       "      <td>NaN</td>\n",
       "      <td>NaN</td>\n",
       "      <td>593.0</td>\n",
       "      <td>323.0</td>\n",
       "      <td>0.0</td>\n",
       "      <td>0.0</td>\n",
       "      <td>0.0</td>\n",
       "      <td>0.0</td>\n",
       "      <td>4.0</td>\n",
       "      <td>0.0</td>\n",
       "      <td>1.0</td>\n",
       "      <td>24.0</td>\n",
       "      <td>0.0</td>\n",
       "      <td>1.0</td>\n",
       "    </tr>\n",
       "    <tr>\n",
       "      <th>1</th>\n",
       "      <td>UsFtqoBl7naz8AVUBZMjQQ</td>\n",
       "      <td>Clancy's Pub</td>\n",
       "      <td>Nightlife</td>\n",
       "      <td>Dravosburg</td>\n",
       "      <td>PA</td>\n",
       "      <td>40.350553</td>\n",
       "      <td>-79.886814</td>\n",
       "      <td>4</td>\n",
       "      <td>3.5</td>\n",
       "      <td>NaN</td>\n",
       "      <td>NaN</td>\n",
       "      <td>128.0</td>\n",
       "      <td>443.0</td>\n",
       "      <td>0.0</td>\n",
       "      <td>0.0</td>\n",
       "      <td>0.0</td>\n",
       "      <td>0.0</td>\n",
       "      <td>27.0</td>\n",
       "      <td>1.0</td>\n",
       "      <td>10.0</td>\n",
       "      <td>60.0</td>\n",
       "      <td>2.0</td>\n",
       "      <td>NaN</td>\n",
       "    </tr>\n",
       "    <tr>\n",
       "      <th>2</th>\n",
       "      <td>3eu6MEFlq2Dg7bQh8QbdOg</td>\n",
       "      <td>Joe Cislo's Auto</td>\n",
       "      <td>Automotive</td>\n",
       "      <td>Dravosburg</td>\n",
       "      <td>PA</td>\n",
       "      <td>40.350956</td>\n",
       "      <td>-79.889059</td>\n",
       "      <td>3</td>\n",
       "      <td>5.0</td>\n",
       "      <td>NaN</td>\n",
       "      <td>NaN</td>\n",
       "      <td>474.0</td>\n",
       "      <td>419.0</td>\n",
       "      <td>0.0</td>\n",
       "      <td>0.0</td>\n",
       "      <td>0.0</td>\n",
       "      <td>0.0</td>\n",
       "      <td>4.0</td>\n",
       "      <td>0.0</td>\n",
       "      <td>1.0</td>\n",
       "      <td>11.0</td>\n",
       "      <td>0.0</td>\n",
       "      <td>NaN</td>\n",
       "    </tr>\n",
       "    <tr>\n",
       "      <th>3</th>\n",
       "      <td>cE27W9VPgO88Qxe4ol6y_g</td>\n",
       "      <td>Cool Springs Golf Center</td>\n",
       "      <td>Active Life</td>\n",
       "      <td>Bethel Park</td>\n",
       "      <td>PA</td>\n",
       "      <td>40.354116</td>\n",
       "      <td>-80.014660</td>\n",
       "      <td>5</td>\n",
       "      <td>2.5</td>\n",
       "      <td>9.0</td>\n",
       "      <td>1.0</td>\n",
       "      <td>172.0</td>\n",
       "      <td>693.0</td>\n",
       "      <td>0.0</td>\n",
       "      <td>0.0</td>\n",
       "      <td>2.0</td>\n",
       "      <td>2.0</td>\n",
       "      <td>13.0</td>\n",
       "      <td>1.0</td>\n",
       "      <td>6.0</td>\n",
       "      <td>46.0</td>\n",
       "      <td>1.0</td>\n",
       "      <td>NaN</td>\n",
       "    </tr>\n",
       "    <tr>\n",
       "      <th>4</th>\n",
       "      <td>HZdLhv6COCleJMo7nPl-RA</td>\n",
       "      <td>Verizon</td>\n",
       "      <td>Shopping</td>\n",
       "      <td>Pittsburgh</td>\n",
       "      <td>PA</td>\n",
       "      <td>40.357620</td>\n",
       "      <td>-80.059980</td>\n",
       "      <td>5</td>\n",
       "      <td>2.5</td>\n",
       "      <td>NaN</td>\n",
       "      <td>NaN</td>\n",
       "      <td>218.0</td>\n",
       "      <td>419.0</td>\n",
       "      <td>9.0</td>\n",
       "      <td>5.0</td>\n",
       "      <td>9.0</td>\n",
       "      <td>23.0</td>\n",
       "      <td>527.0</td>\n",
       "      <td>1.0</td>\n",
       "      <td>181.0</td>\n",
       "      <td>185.0</td>\n",
       "      <td>9.0</td>\n",
       "      <td>NaN</td>\n",
       "    </tr>\n",
       "  </tbody>\n",
       "</table>\n",
       "</div>"
      ],
      "text/plain": [
       "              business_id                      name category_main  \\\n",
       "0  5UmKMjUEUNdYWqANhGckJw                 Mr Hoagie   Restaurants   \n",
       "1  UsFtqoBl7naz8AVUBZMjQQ              Clancy's Pub     Nightlife   \n",
       "2  3eu6MEFlq2Dg7bQh8QbdOg          Joe Cislo's Auto    Automotive   \n",
       "3  cE27W9VPgO88Qxe4ol6y_g  Cool Springs Golf Center   Active Life   \n",
       "4  HZdLhv6COCleJMo7nPl-RA                   Verizon      Shopping   \n",
       "\n",
       "          city state   latitude  longitude  review_count  stars  total  \\\n",
       "0   Dravosburg    PA  40.354327 -79.900706             4    4.5    NaN   \n",
       "1   Dravosburg    PA  40.350553 -79.886814             4    3.5    NaN   \n",
       "2   Dravosburg    PA  40.350956 -79.889059             3    5.0    NaN   \n",
       "3  Bethel Park    PA  40.354116 -80.014660             5    2.5    9.0   \n",
       "4   Pittsburgh    PA  40.357620 -80.059980             5    2.5    NaN   \n",
       "\n",
       "   num_tips  avg_time_btw_reviews  avg_review_length  votes.cool  votes.funny  \\\n",
       "0       NaN                 593.0              323.0         0.0          0.0   \n",
       "1       NaN                 128.0              443.0         0.0          0.0   \n",
       "2       NaN                 474.0              419.0         0.0          0.0   \n",
       "3       1.0                 172.0              693.0         0.0          0.0   \n",
       "4       NaN                 218.0              419.0         9.0          5.0   \n",
       "\n",
       "   votes.useful  total_votes  user_avg_num_compliments  user_num_elite  \\\n",
       "0           0.0          0.0                       4.0             0.0   \n",
       "1           0.0          0.0                      27.0             1.0   \n",
       "2           0.0          0.0                       4.0             0.0   \n",
       "3           2.0          2.0                      13.0             1.0   \n",
       "4           9.0         23.0                     527.0             1.0   \n",
       "\n",
       "   user_avg_num_friends  user_avg_review_count  user_avg_num_fans  num_photos  \n",
       "0                   1.0                   24.0                0.0         1.0  \n",
       "1                  10.0                   60.0                2.0         NaN  \n",
       "2                   1.0                   11.0                0.0         NaN  \n",
       "3                   6.0                   46.0                1.0         NaN  \n",
       "4                 181.0                  185.0                9.0         NaN  "
      ]
     },
     "execution_count": 72,
     "metadata": {},
     "output_type": "execute_result"
    }
   ],
   "source": [
    "total = business_short.merge(checkin_short, how='outer', left_on='business_id', right_on='business_id')\n",
    "total = total.merge(tipsdf, how='outer', left_on='business_id', right_on='business_id')\n",
    "total = total.merge(review_short, how='outer', left_on='business_id', right_on='business_id')\n",
    "total = total.merge(user_features, how='outer', left_on='business_id', right_on='business_id')\n",
    "total = total.merge(photos, how='outer', left_on='business_id', right_on='business_id')\n",
    "total.head()"
   ]
  },
  {
   "cell_type": "markdown",
   "metadata": {},
   "source": [
    "Rename the total checkin count column to be more descriptive"
   ]
  },
  {
   "cell_type": "code",
   "execution_count": 73,
   "metadata": {
    "collapsed": false
   },
   "outputs": [],
   "source": [
    "total.rename(columns={'total': 'num_checkins'}, inplace=True)"
   ]
  },
  {
   "cell_type": "markdown",
   "metadata": {},
   "source": [
    "Fill NaNs with 0 where it makes sense"
   ]
  },
  {
   "cell_type": "code",
   "execution_count": 74,
   "metadata": {
    "collapsed": false
   },
   "outputs": [],
   "source": [
    "total['num_checkins'].fillna(value=0, inplace=True)\n",
    "total['num_tips'].fillna(value=0, inplace=True)\n",
    "total['num_photos'].fillna(value=0, inplace=True)"
   ]
  },
  {
   "cell_type": "markdown",
   "metadata": {},
   "source": [
    "Change review_count data type from string to integer"
   ]
  },
  {
   "cell_type": "code",
   "execution_count": 76,
   "metadata": {
    "collapsed": false
   },
   "outputs": [
    {
     "data": {
      "text/plain": [
       "0         4\n",
       "1         4\n",
       "2         3\n",
       "3         5\n",
       "4         5\n",
       "5        20\n",
       "6         3\n",
       "7        21\n",
       "8         7\n",
       "9         4\n",
       "10        3\n",
       "11        5\n",
       "12        3\n",
       "13        3\n",
       "14        8\n",
       "15        4\n",
       "16        3\n",
       "17        4\n",
       "18        7\n",
       "19       58\n",
       "20        6\n",
       "21        7\n",
       "22        7\n",
       "23        4\n",
       "24       10\n",
       "25        3\n",
       "26        5\n",
       "27        8\n",
       "28        9\n",
       "29        4\n",
       "         ..\n",
       "77415    18\n",
       "77416     5\n",
       "77417     7\n",
       "77418     3\n",
       "77419    73\n",
       "77420     3\n",
       "77421    12\n",
       "77422    17\n",
       "77423     4\n",
       "77424     4\n",
       "77425    19\n",
       "77426    25\n",
       "77427     4\n",
       "77428    10\n",
       "77429    14\n",
       "77430     7\n",
       "77431     6\n",
       "77432     4\n",
       "77433    22\n",
       "77434    20\n",
       "77435    21\n",
       "77436    13\n",
       "77437     3\n",
       "77438     9\n",
       "77439     5\n",
       "77440     4\n",
       "77441     8\n",
       "77442    15\n",
       "77443     6\n",
       "77444     9\n",
       "Name: review_count, dtype: int64"
      ]
     },
     "execution_count": 76,
     "metadata": {},
     "output_type": "execute_result"
    }
   ],
   "source": [
    "pd.to_numeric(total['review_count'])"
   ]
  },
  {
   "cell_type": "code",
   "execution_count": 77,
   "metadata": {
    "collapsed": false
   },
   "outputs": [
    {
     "data": {
      "text/html": [
       "<div>\n",
       "<table border=\"1\" class=\"dataframe\">\n",
       "  <thead>\n",
       "    <tr style=\"text-align: right;\">\n",
       "      <th></th>\n",
       "      <th>business_id</th>\n",
       "      <th>name</th>\n",
       "      <th>category_main</th>\n",
       "      <th>city</th>\n",
       "      <th>state</th>\n",
       "      <th>latitude</th>\n",
       "      <th>longitude</th>\n",
       "      <th>review_count</th>\n",
       "      <th>stars</th>\n",
       "      <th>num_checkins</th>\n",
       "      <th>num_tips</th>\n",
       "      <th>avg_time_btw_reviews</th>\n",
       "      <th>avg_review_length</th>\n",
       "      <th>votes.cool</th>\n",
       "      <th>votes.funny</th>\n",
       "      <th>votes.useful</th>\n",
       "      <th>total_votes</th>\n",
       "      <th>user_avg_num_compliments</th>\n",
       "      <th>user_num_elite</th>\n",
       "      <th>user_avg_num_friends</th>\n",
       "      <th>user_avg_review_count</th>\n",
       "      <th>user_avg_num_fans</th>\n",
       "      <th>num_photos</th>\n",
       "    </tr>\n",
       "  </thead>\n",
       "  <tbody>\n",
       "    <tr>\n",
       "      <th>0</th>\n",
       "      <td>5UmKMjUEUNdYWqANhGckJw</td>\n",
       "      <td>Mr Hoagie</td>\n",
       "      <td>Restaurants</td>\n",
       "      <td>Dravosburg</td>\n",
       "      <td>PA</td>\n",
       "      <td>40.354327</td>\n",
       "      <td>-79.900706</td>\n",
       "      <td>4</td>\n",
       "      <td>4.5</td>\n",
       "      <td>0.0</td>\n",
       "      <td>0.0</td>\n",
       "      <td>593.0</td>\n",
       "      <td>323.0</td>\n",
       "      <td>0.0</td>\n",
       "      <td>0.0</td>\n",
       "      <td>0.0</td>\n",
       "      <td>0.0</td>\n",
       "      <td>4.0</td>\n",
       "      <td>0.0</td>\n",
       "      <td>1.0</td>\n",
       "      <td>24.0</td>\n",
       "      <td>0.0</td>\n",
       "      <td>1.0</td>\n",
       "    </tr>\n",
       "    <tr>\n",
       "      <th>1</th>\n",
       "      <td>UsFtqoBl7naz8AVUBZMjQQ</td>\n",
       "      <td>Clancy's Pub</td>\n",
       "      <td>Nightlife</td>\n",
       "      <td>Dravosburg</td>\n",
       "      <td>PA</td>\n",
       "      <td>40.350553</td>\n",
       "      <td>-79.886814</td>\n",
       "      <td>4</td>\n",
       "      <td>3.5</td>\n",
       "      <td>0.0</td>\n",
       "      <td>0.0</td>\n",
       "      <td>128.0</td>\n",
       "      <td>443.0</td>\n",
       "      <td>0.0</td>\n",
       "      <td>0.0</td>\n",
       "      <td>0.0</td>\n",
       "      <td>0.0</td>\n",
       "      <td>27.0</td>\n",
       "      <td>1.0</td>\n",
       "      <td>10.0</td>\n",
       "      <td>60.0</td>\n",
       "      <td>2.0</td>\n",
       "      <td>0.0</td>\n",
       "    </tr>\n",
       "    <tr>\n",
       "      <th>2</th>\n",
       "      <td>3eu6MEFlq2Dg7bQh8QbdOg</td>\n",
       "      <td>Joe Cislo's Auto</td>\n",
       "      <td>Automotive</td>\n",
       "      <td>Dravosburg</td>\n",
       "      <td>PA</td>\n",
       "      <td>40.350956</td>\n",
       "      <td>-79.889059</td>\n",
       "      <td>3</td>\n",
       "      <td>5.0</td>\n",
       "      <td>0.0</td>\n",
       "      <td>0.0</td>\n",
       "      <td>474.0</td>\n",
       "      <td>419.0</td>\n",
       "      <td>0.0</td>\n",
       "      <td>0.0</td>\n",
       "      <td>0.0</td>\n",
       "      <td>0.0</td>\n",
       "      <td>4.0</td>\n",
       "      <td>0.0</td>\n",
       "      <td>1.0</td>\n",
       "      <td>11.0</td>\n",
       "      <td>0.0</td>\n",
       "      <td>0.0</td>\n",
       "    </tr>\n",
       "    <tr>\n",
       "      <th>3</th>\n",
       "      <td>cE27W9VPgO88Qxe4ol6y_g</td>\n",
       "      <td>Cool Springs Golf Center</td>\n",
       "      <td>Active Life</td>\n",
       "      <td>Bethel Park</td>\n",
       "      <td>PA</td>\n",
       "      <td>40.354116</td>\n",
       "      <td>-80.014660</td>\n",
       "      <td>5</td>\n",
       "      <td>2.5</td>\n",
       "      <td>9.0</td>\n",
       "      <td>1.0</td>\n",
       "      <td>172.0</td>\n",
       "      <td>693.0</td>\n",
       "      <td>0.0</td>\n",
       "      <td>0.0</td>\n",
       "      <td>2.0</td>\n",
       "      <td>2.0</td>\n",
       "      <td>13.0</td>\n",
       "      <td>1.0</td>\n",
       "      <td>6.0</td>\n",
       "      <td>46.0</td>\n",
       "      <td>1.0</td>\n",
       "      <td>0.0</td>\n",
       "    </tr>\n",
       "    <tr>\n",
       "      <th>4</th>\n",
       "      <td>HZdLhv6COCleJMo7nPl-RA</td>\n",
       "      <td>Verizon</td>\n",
       "      <td>Shopping</td>\n",
       "      <td>Pittsburgh</td>\n",
       "      <td>PA</td>\n",
       "      <td>40.357620</td>\n",
       "      <td>-80.059980</td>\n",
       "      <td>5</td>\n",
       "      <td>2.5</td>\n",
       "      <td>0.0</td>\n",
       "      <td>0.0</td>\n",
       "      <td>218.0</td>\n",
       "      <td>419.0</td>\n",
       "      <td>9.0</td>\n",
       "      <td>5.0</td>\n",
       "      <td>9.0</td>\n",
       "      <td>23.0</td>\n",
       "      <td>527.0</td>\n",
       "      <td>1.0</td>\n",
       "      <td>181.0</td>\n",
       "      <td>185.0</td>\n",
       "      <td>9.0</td>\n",
       "      <td>0.0</td>\n",
       "    </tr>\n",
       "  </tbody>\n",
       "</table>\n",
       "</div>"
      ],
      "text/plain": [
       "              business_id                      name category_main  \\\n",
       "0  5UmKMjUEUNdYWqANhGckJw                 Mr Hoagie   Restaurants   \n",
       "1  UsFtqoBl7naz8AVUBZMjQQ              Clancy's Pub     Nightlife   \n",
       "2  3eu6MEFlq2Dg7bQh8QbdOg          Joe Cislo's Auto    Automotive   \n",
       "3  cE27W9VPgO88Qxe4ol6y_g  Cool Springs Golf Center   Active Life   \n",
       "4  HZdLhv6COCleJMo7nPl-RA                   Verizon      Shopping   \n",
       "\n",
       "          city state   latitude  longitude  review_count  stars  num_checkins  \\\n",
       "0   Dravosburg    PA  40.354327 -79.900706             4    4.5           0.0   \n",
       "1   Dravosburg    PA  40.350553 -79.886814             4    3.5           0.0   \n",
       "2   Dravosburg    PA  40.350956 -79.889059             3    5.0           0.0   \n",
       "3  Bethel Park    PA  40.354116 -80.014660             5    2.5           9.0   \n",
       "4   Pittsburgh    PA  40.357620 -80.059980             5    2.5           0.0   \n",
       "\n",
       "   num_tips  avg_time_btw_reviews  avg_review_length  votes.cool  votes.funny  \\\n",
       "0       0.0                 593.0              323.0         0.0          0.0   \n",
       "1       0.0                 128.0              443.0         0.0          0.0   \n",
       "2       0.0                 474.0              419.0         0.0          0.0   \n",
       "3       1.0                 172.0              693.0         0.0          0.0   \n",
       "4       0.0                 218.0              419.0         9.0          5.0   \n",
       "\n",
       "   votes.useful  total_votes  user_avg_num_compliments  user_num_elite  \\\n",
       "0           0.0          0.0                       4.0             0.0   \n",
       "1           0.0          0.0                      27.0             1.0   \n",
       "2           0.0          0.0                       4.0             0.0   \n",
       "3           2.0          2.0                      13.0             1.0   \n",
       "4           9.0         23.0                     527.0             1.0   \n",
       "\n",
       "   user_avg_num_friends  user_avg_review_count  user_avg_num_fans  num_photos  \n",
       "0                   1.0                   24.0                0.0         1.0  \n",
       "1                  10.0                   60.0                2.0         0.0  \n",
       "2                   1.0                   11.0                0.0         0.0  \n",
       "3                   6.0                   46.0                1.0         0.0  \n",
       "4                 181.0                  185.0                9.0         0.0  "
      ]
     },
     "execution_count": 77,
     "metadata": {},
     "output_type": "execute_result"
    }
   ],
   "source": [
    "total.head()"
   ]
  },
  {
   "cell_type": "markdown",
   "metadata": {},
   "source": [
    "## Further Data Processing "
   ]
  },
  {
   "cell_type": "markdown",
   "metadata": {},
   "source": [
    "### Add city name to data given latitude and longitude"
   ]
  },
  {
   "cell_type": "code",
   "execution_count": 78,
   "metadata": {
    "collapsed": false
   },
   "outputs": [
    {
     "name": "stdout",
     "output_type": "stream",
     "text": [
      "state\n",
      "AZ     32615\n",
      "NV     21233\n",
      "NC      6162\n",
      "QC      4942\n",
      "PA      3754\n",
      "EDH     3206\n",
      "WI      2802\n",
      "BW      1048\n",
      "IL       737\n",
      "ON       474\n",
      "SC       271\n",
      "MLN      147\n",
      "RP        18\n",
      "ELN       12\n",
      "FIF        5\n",
      "CA         3\n",
      "SCB        3\n",
      "TX         2\n",
      "AR         1\n",
      "MN         1\n",
      "HAM        1\n",
      "KHL        1\n",
      "MA         1\n",
      "NM         1\n",
      "NTH        1\n",
      "NW         1\n",
      "OR         1\n",
      "AL         1\n",
      "dtype: int64\n"
     ]
    }
   ],
   "source": [
    "states = total.groupby(by='state').size()\n",
    "coordinates = total[['latitude', 'longitude']]\n",
    "print states.sort_values(ascending=False)"
   ]
  },
  {
   "cell_type": "code",
   "execution_count": 79,
   "metadata": {
    "collapsed": true
   },
   "outputs": [],
   "source": [
    "import math\n",
    "\n",
    "city_names = ['Edinburgh, UK', 'Karlsruhe, Germany', 'Montreal, Canada', 'Waterloo, Canada',\n",
    "         'Pittsburgh, PA', 'Charlotte, NC', 'Urbana-Champaign, IL', 'Phoenix, AZ',\n",
    "         'Las Vegas, NV', 'Madison, WI']\n",
    "\n",
    "cities_coor = [(55.953252, -3.188267), (49.006890, 8.403653), \n",
    "              (45.501689, -73.567256), (43.464258, -80.520410),\n",
    "              (40.440625, -79.995886), (35.227087, -80.843127),\n",
    "              (40.110588, -88.207270), (33.448377, -112.074037),\n",
    "              (36.169941, -115.139830), (43.073052, -89.401230)]\n",
    "\n",
    "def distance(origin, destination):\n",
    "    lat1, lon1 = origin\n",
    "    lat2, lon2 = destination\n",
    "    radius = 6371 # km\n",
    "    dlat = math.radians(lat2-lat1)\n",
    "    dlon = math.radians(lon2-lon1)\n",
    "    a = math.sin(dlat/2) * math.sin(dlat/2) + math.cos(math.radians(lat1)) \\\n",
    "        * math.cos(math.radians(lat2)) * math.sin(dlon/2) * math.sin(dlon/2)\n",
    "    c = 2 * math.atan2(math.sqrt(a), math.sqrt(1-a))\n",
    "    d = radius * c\n",
    "    return d"
   ]
  },
  {
   "cell_type": "code",
   "execution_count": 80,
   "metadata": {
    "collapsed": false
   },
   "outputs": [],
   "source": [
    "itter = coordinates.iterrows()\n",
    "cities = []\n",
    "\n",
    "for coor in itter:\n",
    "    origin = (coor[1][0], coor[1][1])\n",
    "    dists = []\n",
    "    for dest in cities_coor:\n",
    "        d = distance(origin, dest)\n",
    "        dists.append(d)\n",
    "    cities.append(city_names[np.argmin(dists)])"
   ]
  },
  {
   "cell_type": "code",
   "execution_count": 81,
   "metadata": {
    "collapsed": false
   },
   "outputs": [
    {
     "data": {
      "text/html": [
       "<div>\n",
       "<table border=\"1\" class=\"dataframe\">\n",
       "  <thead>\n",
       "    <tr style=\"text-align: right;\">\n",
       "      <th></th>\n",
       "      <th>business_id</th>\n",
       "      <th>name</th>\n",
       "      <th>category_main</th>\n",
       "      <th>city</th>\n",
       "      <th>state</th>\n",
       "      <th>latitude</th>\n",
       "      <th>longitude</th>\n",
       "      <th>review_count</th>\n",
       "      <th>stars</th>\n",
       "      <th>num_checkins</th>\n",
       "      <th>num_tips</th>\n",
       "      <th>avg_time_btw_reviews</th>\n",
       "      <th>avg_review_length</th>\n",
       "      <th>votes.cool</th>\n",
       "      <th>votes.funny</th>\n",
       "      <th>votes.useful</th>\n",
       "      <th>total_votes</th>\n",
       "      <th>user_avg_num_compliments</th>\n",
       "      <th>user_num_elite</th>\n",
       "      <th>user_avg_num_friends</th>\n",
       "      <th>user_avg_review_count</th>\n",
       "      <th>user_avg_num_fans</th>\n",
       "      <th>num_photos</th>\n",
       "    </tr>\n",
       "  </thead>\n",
       "  <tbody>\n",
       "    <tr>\n",
       "      <th>0</th>\n",
       "      <td>5UmKMjUEUNdYWqANhGckJw</td>\n",
       "      <td>Mr Hoagie</td>\n",
       "      <td>Restaurants</td>\n",
       "      <td>Pittsburgh, PA</td>\n",
       "      <td>PA</td>\n",
       "      <td>40.354327</td>\n",
       "      <td>-79.900706</td>\n",
       "      <td>4</td>\n",
       "      <td>4.5</td>\n",
       "      <td>0.0</td>\n",
       "      <td>0.0</td>\n",
       "      <td>593.0</td>\n",
       "      <td>323.0</td>\n",
       "      <td>0.0</td>\n",
       "      <td>0.0</td>\n",
       "      <td>0.0</td>\n",
       "      <td>0.0</td>\n",
       "      <td>4.0</td>\n",
       "      <td>0.0</td>\n",
       "      <td>1.0</td>\n",
       "      <td>24.0</td>\n",
       "      <td>0.0</td>\n",
       "      <td>1.0</td>\n",
       "    </tr>\n",
       "    <tr>\n",
       "      <th>1</th>\n",
       "      <td>UsFtqoBl7naz8AVUBZMjQQ</td>\n",
       "      <td>Clancy's Pub</td>\n",
       "      <td>Nightlife</td>\n",
       "      <td>Pittsburgh, PA</td>\n",
       "      <td>PA</td>\n",
       "      <td>40.350553</td>\n",
       "      <td>-79.886814</td>\n",
       "      <td>4</td>\n",
       "      <td>3.5</td>\n",
       "      <td>0.0</td>\n",
       "      <td>0.0</td>\n",
       "      <td>128.0</td>\n",
       "      <td>443.0</td>\n",
       "      <td>0.0</td>\n",
       "      <td>0.0</td>\n",
       "      <td>0.0</td>\n",
       "      <td>0.0</td>\n",
       "      <td>27.0</td>\n",
       "      <td>1.0</td>\n",
       "      <td>10.0</td>\n",
       "      <td>60.0</td>\n",
       "      <td>2.0</td>\n",
       "      <td>0.0</td>\n",
       "    </tr>\n",
       "    <tr>\n",
       "      <th>2</th>\n",
       "      <td>3eu6MEFlq2Dg7bQh8QbdOg</td>\n",
       "      <td>Joe Cislo's Auto</td>\n",
       "      <td>Automotive</td>\n",
       "      <td>Pittsburgh, PA</td>\n",
       "      <td>PA</td>\n",
       "      <td>40.350956</td>\n",
       "      <td>-79.889059</td>\n",
       "      <td>3</td>\n",
       "      <td>5.0</td>\n",
       "      <td>0.0</td>\n",
       "      <td>0.0</td>\n",
       "      <td>474.0</td>\n",
       "      <td>419.0</td>\n",
       "      <td>0.0</td>\n",
       "      <td>0.0</td>\n",
       "      <td>0.0</td>\n",
       "      <td>0.0</td>\n",
       "      <td>4.0</td>\n",
       "      <td>0.0</td>\n",
       "      <td>1.0</td>\n",
       "      <td>11.0</td>\n",
       "      <td>0.0</td>\n",
       "      <td>0.0</td>\n",
       "    </tr>\n",
       "    <tr>\n",
       "      <th>3</th>\n",
       "      <td>cE27W9VPgO88Qxe4ol6y_g</td>\n",
       "      <td>Cool Springs Golf Center</td>\n",
       "      <td>Active Life</td>\n",
       "      <td>Pittsburgh, PA</td>\n",
       "      <td>PA</td>\n",
       "      <td>40.354116</td>\n",
       "      <td>-80.014660</td>\n",
       "      <td>5</td>\n",
       "      <td>2.5</td>\n",
       "      <td>9.0</td>\n",
       "      <td>1.0</td>\n",
       "      <td>172.0</td>\n",
       "      <td>693.0</td>\n",
       "      <td>0.0</td>\n",
       "      <td>0.0</td>\n",
       "      <td>2.0</td>\n",
       "      <td>2.0</td>\n",
       "      <td>13.0</td>\n",
       "      <td>1.0</td>\n",
       "      <td>6.0</td>\n",
       "      <td>46.0</td>\n",
       "      <td>1.0</td>\n",
       "      <td>0.0</td>\n",
       "    </tr>\n",
       "    <tr>\n",
       "      <th>4</th>\n",
       "      <td>HZdLhv6COCleJMo7nPl-RA</td>\n",
       "      <td>Verizon</td>\n",
       "      <td>Shopping</td>\n",
       "      <td>Pittsburgh, PA</td>\n",
       "      <td>PA</td>\n",
       "      <td>40.357620</td>\n",
       "      <td>-80.059980</td>\n",
       "      <td>5</td>\n",
       "      <td>2.5</td>\n",
       "      <td>0.0</td>\n",
       "      <td>0.0</td>\n",
       "      <td>218.0</td>\n",
       "      <td>419.0</td>\n",
       "      <td>9.0</td>\n",
       "      <td>5.0</td>\n",
       "      <td>9.0</td>\n",
       "      <td>23.0</td>\n",
       "      <td>527.0</td>\n",
       "      <td>1.0</td>\n",
       "      <td>181.0</td>\n",
       "      <td>185.0</td>\n",
       "      <td>9.0</td>\n",
       "      <td>0.0</td>\n",
       "    </tr>\n",
       "  </tbody>\n",
       "</table>\n",
       "</div>"
      ],
      "text/plain": [
       "              business_id                      name category_main  \\\n",
       "0  5UmKMjUEUNdYWqANhGckJw                 Mr Hoagie   Restaurants   \n",
       "1  UsFtqoBl7naz8AVUBZMjQQ              Clancy's Pub     Nightlife   \n",
       "2  3eu6MEFlq2Dg7bQh8QbdOg          Joe Cislo's Auto    Automotive   \n",
       "3  cE27W9VPgO88Qxe4ol6y_g  Cool Springs Golf Center   Active Life   \n",
       "4  HZdLhv6COCleJMo7nPl-RA                   Verizon      Shopping   \n",
       "\n",
       "             city state   latitude  longitude  review_count  stars  \\\n",
       "0  Pittsburgh, PA    PA  40.354327 -79.900706             4    4.5   \n",
       "1  Pittsburgh, PA    PA  40.350553 -79.886814             4    3.5   \n",
       "2  Pittsburgh, PA    PA  40.350956 -79.889059             3    5.0   \n",
       "3  Pittsburgh, PA    PA  40.354116 -80.014660             5    2.5   \n",
       "4  Pittsburgh, PA    PA  40.357620 -80.059980             5    2.5   \n",
       "\n",
       "   num_checkins  num_tips  avg_time_btw_reviews  avg_review_length  \\\n",
       "0           0.0       0.0                 593.0              323.0   \n",
       "1           0.0       0.0                 128.0              443.0   \n",
       "2           0.0       0.0                 474.0              419.0   \n",
       "3           9.0       1.0                 172.0              693.0   \n",
       "4           0.0       0.0                 218.0              419.0   \n",
       "\n",
       "   votes.cool  votes.funny  votes.useful  total_votes  \\\n",
       "0         0.0          0.0           0.0          0.0   \n",
       "1         0.0          0.0           0.0          0.0   \n",
       "2         0.0          0.0           0.0          0.0   \n",
       "3         0.0          0.0           2.0          2.0   \n",
       "4         9.0          5.0           9.0         23.0   \n",
       "\n",
       "   user_avg_num_compliments  user_num_elite  user_avg_num_friends  \\\n",
       "0                       4.0             0.0                   1.0   \n",
       "1                      27.0             1.0                  10.0   \n",
       "2                       4.0             0.0                   1.0   \n",
       "3                      13.0             1.0                   6.0   \n",
       "4                     527.0             1.0                 181.0   \n",
       "\n",
       "   user_avg_review_count  user_avg_num_fans  num_photos  \n",
       "0                   24.0                0.0         1.0  \n",
       "1                   60.0                2.0         0.0  \n",
       "2                   11.0                0.0         0.0  \n",
       "3                   46.0                1.0         0.0  \n",
       "4                  185.0                9.0         0.0  "
      ]
     },
     "execution_count": 81,
     "metadata": {},
     "output_type": "execute_result"
    }
   ],
   "source": [
    "total['city'] = cities\n",
    "total.head()"
   ]
  },
  {
   "cell_type": "markdown",
   "metadata": {},
   "source": [
    "### Flatten Categories According to Yelp's Category Structure"
   ]
  },
  {
   "cell_type": "code",
   "execution_count": 82,
   "metadata": {
    "collapsed": true
   },
   "outputs": [],
   "source": [
    "cats = pd.read_csv('csv/yelp_categories.csv', header=None, names=['sub_cat','parent_cat'])"
   ]
  },
  {
   "cell_type": "markdown",
   "metadata": {},
   "source": [
    "Parse the .json file suppplied by Yelp that contains each category and its parent category, if there is one"
   ]
  },
  {
   "cell_type": "code",
   "execution_count": 83,
   "metadata": {
    "collapsed": true
   },
   "outputs": [],
   "source": [
    "itter = cats.iterrows()\n",
    "\n",
    "cat_dict = defaultdict(str)\n",
    "for row in itter:\n",
    "    try:\n",
    "        sub = row[1].sub_cat.split('(')[0].strip()\n",
    "        par = row[1].parent_cat.split('(')[0].strip()\n",
    "        cat_dict[sub] = par\n",
    "    except:\n",
    "        continue"
   ]
  },
  {
   "cell_type": "markdown",
   "metadata": {},
   "source": [
    "Delete Real Estate from dictionary as this appears twice - once as a parent category and once as a child. Here we are removing the parent entry"
   ]
  },
  {
   "cell_type": "code",
   "execution_count": 84,
   "metadata": {
    "collapsed": true
   },
   "outputs": [],
   "source": [
    "del cat_dict['Real Estate']"
   ]
  },
  {
   "cell_type": "markdown",
   "metadata": {},
   "source": [
    "Replace the category column in the dataframe using the parent-child dictionary. Now only the parent categories are present, helping to reduce the number of categories"
   ]
  },
  {
   "cell_type": "code",
   "execution_count": 85,
   "metadata": {
    "collapsed": true
   },
   "outputs": [],
   "source": [
    "total.replace({'category_main':cat_dict}, inplace=True)"
   ]
  },
  {
   "cell_type": "markdown",
   "metadata": {},
   "source": [
    "### Reduce the Yelp star ratings to single integer buckets of 1-5"
   ]
  },
  {
   "cell_type": "code",
   "execution_count": 86,
   "metadata": {
    "collapsed": false
   },
   "outputs": [],
   "source": [
    "star_dict = {1.0: 1, 1.5: 1, 2.0: 2, 2.5: 2, 3.0: 3, 3.5: 3, 4.0: 4, 4.5: 4, 5.0: 5}\n",
    "total['stars_int'] = total['stars'].map(star_dict)"
   ]
  },
  {
   "cell_type": "markdown",
   "metadata": {
    "collapsed": false
   },
   "source": [
    "### Visualize numerical features by star count to uncover relationship between features and star count"
   ]
  },
  {
   "cell_type": "code",
   "execution_count": 88,
   "metadata": {
    "collapsed": false
   },
   "outputs": [
    {
     "name": "stdout",
     "output_type": "stream",
     "text": [
      "['review_count', 'num_checkins', 'num_tips', 'avg_time_btw_reviews', 'avg_review_length', 'votes.cool', 'votes.funny', 'votes.useful', 'total_votes', 'user_avg_num_compliments', 'user_num_elite', 'user_avg_num_friends', 'user_avg_review_count', 'user_avg_num_fans', 'num_photos']\n"
     ]
    }
   ],
   "source": [
    "# Create numeric feature list\n",
    "tot_feature_list = total.columns.tolist()\n",
    "numeric_feature_list = [f for f in tot_feature_list if f not in ['stars', 'business_id','name','category_main',\n",
    "                                                                'city','state','latitude','longitude', 'stars_int']]\n",
    "print numeric_feature_list"
   ]
  },
  {
   "cell_type": "code",
   "execution_count": 99,
   "metadata": {
    "collapsed": false
   },
   "outputs": [],
   "source": [
    "# Find averages by star count for each feature\n",
    "stars = total.groupby(by='stars_int')\n",
    "avg_across_cols = []\n",
    "for col in numeric_feature_list:\n",
    "    avgs = []\n",
    "    for i in range(1,6):\n",
    "        group = stars.get_group(i)\n",
    "        avgs.append(group[col].mean())\n",
    "    avg_across_cols.append(avgs)"
   ]
  },
  {
   "cell_type": "code",
   "execution_count": 100,
   "metadata": {
    "collapsed": false,
    "scrolled": false
   },
   "outputs": [
    {
     "data": {
      "image/png": "[encoded data removed]",
      "text/plain": [
       "<matplotlib.figure.Figure at 0x11b7fa950>"
      ]
     },
     "metadata": {},
     "output_type": "display_data"
    }
   ],
   "source": [
    "# Visualize \n",
    "xs = range(0,5)\n",
    "\n",
    "plt.figure(figsize=(10,10))\n",
    "\n",
    "for i in range(len(numeric_feature_list)):\n",
    "    plt.subplot(5,3,i+1)\n",
    "    plt.bar(xs, avg_across_cols[i])\n",
    "    plt.title(numeric_feature_list[i])\n",
    "\n",
    "plt.tight_layout()"
   ]
  },
  {
   "cell_type": "code",
   "execution_count": 103,
   "metadata": {
    "collapsed": false
   },
   "outputs": [
    {
     "data": {
      "text/plain": [
       "<matplotlib.text.Text at 0x19a075510>"
      ]
     },
     "execution_count": 103,
     "metadata": {},
     "output_type": "execute_result"
    },
    {
     "data": {
      "image/png": "[encoded data removed]",
      "text/plain": [
       "<matplotlib.figure.Figure at 0x11b7c1a10>"
      ]
     },
     "metadata": {},
     "output_type": "display_data"
    }
   ],
   "source": [
    "plt.hist(total['stars_int'])\n",
    "plt.xlim(0,5)\n",
    "plt.title('Numer of Businesses by Rating')"
   ]
  },
  {
   "cell_type": "markdown",
   "metadata": {},
   "source": [
    "### Eliminate 5 Star Businesses"
   ]
  },
  {
   "cell_type": "markdown",
   "metadata": {},
   "source": [
    "It appears that businesses with 5 stars on Yelp exhibit an abnormal trends. I believe the reason for this is that 5 star businesses do not always reflect a high quality business because the high rating is due to having only 1 or 2 reviews. I have confirmed this in the cell below, which shows that 40% of businesses with 5 stars have less than 5 reviews. Thus I am eliminating 5 star businesses from my dataset. "
   ]
  },
  {
   "cell_type": "code",
   "execution_count": 105,
   "metadata": {
    "collapsed": false
   },
   "outputs": [
    {
     "data": {
      "text/plain": [
       "{1, 2, 3, 4, 5}"
      ]
     },
     "execution_count": 105,
     "metadata": {},
     "output_type": "execute_result"
    }
   ],
   "source": [
    "set(total.stars_int)"
   ]
  },
  {
   "cell_type": "code",
   "execution_count": 104,
   "metadata": {
    "collapsed": false
   },
   "outputs": [
    {
     "data": {
      "text/plain": [
       "40.961590115498254"
      ]
     },
     "execution_count": 104,
     "metadata": {},
     "output_type": "execute_result"
    }
   ],
   "source": [
    "len(stars5[stars5.review_count < 5])/float(len(stars5))*100"
   ]
  },
  {
   "cell_type": "code",
   "execution_count": 106,
   "metadata": {
    "collapsed": true
   },
   "outputs": [],
   "source": [
    "total = total[total.stars_int != 5]"
   ]
  },
  {
   "cell_type": "code",
   "execution_count": 107,
   "metadata": {
    "collapsed": false
   },
   "outputs": [
    {
     "data": {
      "text/plain": [
       "{1, 2, 3, 4}"
      ]
     },
     "execution_count": 107,
     "metadata": {},
     "output_type": "execute_result"
    }
   ],
   "source": [
    "set(total.stars_int)"
   ]
  },
  {
   "cell_type": "markdown",
   "metadata": {},
   "source": [
    "Eliminate NaNs"
   ]
  },
  {
   "cell_type": "code",
   "execution_count": 115,
   "metadata": {
    "collapsed": true
   },
   "outputs": [],
   "source": [
    "total.dropna(inplace=True)"
   ]
  },
  {
   "cell_type": "markdown",
   "metadata": {},
   "source": [
    "## Visualize the data once more"
   ]
  },
  {
   "cell_type": "markdown",
   "metadata": {},
   "source": [
    "Numerical Features:"
   ]
  },
  {
   "cell_type": "code",
   "execution_count": 116,
   "metadata": {
    "collapsed": false
   },
   "outputs": [
    {
     "data": {
      "image/png": "[encoded data removed]",
      "text/plain": [
       "<matplotlib.figure.Figure at 0x193101e10>"
      ]
     },
     "metadata": {},
     "output_type": "display_data"
    }
   ],
   "source": [
    "stars = total.groupby(by='stars_int')\n",
    "avg_across_cols = []\n",
    "\n",
    "for col in numeric_feature_list:\n",
    "    avgs = []\n",
    "    for i in range(1,5):\n",
    "        group = stars.get_group(i)\n",
    "        avgs.append(group[col].mean())\n",
    "    avg_across_cols.append(avgs)\n",
    "\n",
    "xs = range(1,5)\n",
    "plt.figure(figsize=(14,7))\n",
    "\n",
    "for i in range(len(numeric_feature_list)):\n",
    "    plt.subplot(4,5,i+1)\n",
    "    plt.bar(xs, avg_across_cols[i], color='black')\n",
    "    plt.title(numeric_feature_list[i], y=1.02)\n",
    "\n",
    "plt.tight_layout()\n",
    "\n",
    "plt.savefig('fig/features_by_stars')"
   ]
  },
  {
   "cell_type": "markdown",
   "metadata": {},
   "source": [
    "Number of Businesses Per City:"
   ]
  },
  {
   "cell_type": "code",
   "execution_count": 117,
   "metadata": {
    "collapsed": false
   },
   "outputs": [
    {
     "data": {
      "image/png": "[encoded data removed]",
      "text/plain": [
       "<matplotlib.figure.Figure at 0x199d0f790>"
      ]
     },
     "metadata": {},
     "output_type": "display_data"
    }
   ],
   "source": [
    "cities = total.groupby(by='city').size().sort_values(ascending=False)\n",
    "\n",
    "plt.bar(range(len(cities.values)),cities.values, color='black')\n",
    "plt.xticks(range(len(cities.values)),cities.index, rotation=45)\n",
    "plt.title('Number of Businesses by City')\n",
    "plt.ylabel('Number of Businesses')\n",
    "\n",
    "ax = plt.gca()\n",
    "pos1 = ax.get_position()\n",
    "pos2 = [pos1.x0 + 0.02, pos1.y0 + 0.19, pos1.width + 0.04, pos1.height - 0.18]\n",
    "ax.set_position(pos2)\n",
    "\n",
    "plt.savefig('fig/by_city')"
   ]
  },
  {
   "cell_type": "markdown",
   "metadata": {},
   "source": [
    "Number of Businesses by Category:\n"
   ]
  },
  {
   "cell_type": "code",
   "execution_count": 118,
   "metadata": {
    "collapsed": false
   },
   "outputs": [
    {
     "data": {
      "image/png": "[encoded data removed]",
      "text/plain": [
       "<matplotlib.figure.Figure at 0x196142150>"
      ]
     },
     "metadata": {},
     "output_type": "display_data"
    }
   ],
   "source": [
    "categories = total.groupby(by='category_main')\n",
    "\n",
    "plt.bar(range(10),categories.size().sort_values(ascending=False).values[:10], color='black')\n",
    "plt.xticks(range(10),categories.size().sort_values(ascending=False).index[:10], rotation=45)\n",
    "plt.title('Number of Businesses by Category')\n",
    "plt.ylabel('Number of Businesses')\n",
    "\n",
    "ax = plt.gca()\n",
    "pos1 = ax.get_position()\n",
    "pos2 = [pos1.x0 + 0.02, pos1.y0 + 0.14, pos1.width + 0.04, pos1.height - 0.14]\n",
    "ax.set_position(pos2)\n",
    "\n",
    "plt.savefig('fig/by_category')"
   ]
  },
  {
   "cell_type": "markdown",
   "metadata": {},
   "source": [
    "Number of Businesses by Rating:"
   ]
  },
  {
   "cell_type": "code",
   "execution_count": 119,
   "metadata": {
    "collapsed": false
   },
   "outputs": [
    {
     "data": {
      "image/png": "[encoded data removed]",
      "text/plain": [
       "<matplotlib.figure.Figure at 0x192e59110>"
      ]
     },
     "metadata": {},
     "output_type": "display_data"
    }
   ],
   "source": [
    "stars = total.groupby(by='stars_int').size()\n",
    "\n",
    "plt.bar(range(4),stars.values, color='black')\n",
    "plt.xticks(np.arange(0.4,4.4, 1), ['1 Star','2 Stars','3 Stars','4 Stars'])\n",
    "plt.title('Number of Businesses by Rating')\n",
    "plt.ylabel('Number of Businesses')\n",
    "\n",
    "ax = plt.gca()\n",
    "pos1 = ax.get_position()\n",
    "pos2 = [pos1.x0 + 0.02, pos1.y0, pos1.width + 0.04, pos1.height]\n",
    "ax.set_position(pos2)\n",
    "\n",
    "plt.savefig('fig/by_stars')"
   ]
  },
  {
   "cell_type": "markdown",
   "metadata": {},
   "source": [
    "Pickle if necessary"
   ]
  },
  {
   "cell_type": "code",
   "execution_count": 120,
   "metadata": {
    "collapsed": true
   },
   "outputs": [],
   "source": [
    "with open('pickle/total_clean_github.pickle', 'wb') as handle:\n",
    "    pickle.dump(total, handle)"
   ]
  }
 ],
 "metadata": {
  "kernelspec": {
   "display_name": "Python 2",
   "language": "python",
   "name": "python2"
  },
  "language_info": {
   "codemirror_mode": {
    "name": "ipython",
    "version": 2
   },
   "file_extension": ".py",
   "mimetype": "text/x-python",
   "name": "python",
   "nbconvert_exporter": "python",
   "pygments_lexer": "ipython2",
   "version": "2.7.11"
  }
 },
 "nbformat": 4,
 "nbformat_minor": 0
}
