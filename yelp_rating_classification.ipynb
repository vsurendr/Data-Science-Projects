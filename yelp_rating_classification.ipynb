{
 "cells": [
  {
   "cell_type": "markdown",
   "metadata": {},
   "source": [
    "# Yelp Rating Classification"
   ]
  },
  {
   "cell_type": "markdown",
   "metadata": {},
   "source": [
    "My goal for this project was to create a tool for businesses using Yelp data that would show a business how their Yelp rating could change by adjusting certain Yelp-specific levers (i.e. number of check-ins, number of tips, number of photos, etc). This requires using a classification algorithm that supplies interpretable results, which is why I chose Logistic Regression. Using Logistic Regression, the tool can show a business how the probability of having each rating changes as a single attribute changes, while holding all other attributes constant. "
   ]
  },
  {
   "cell_type": "code",
   "execution_count": 35,
   "metadata": {
    "collapsed": true
   },
   "outputs": [],
   "source": [
    "import pandas as pd\n",
    "import pickle\n",
    "from sklearn.cross_validation import train_test_split\n",
    "import statsmodels as sm\n",
    "import numpy as np\n",
    "from sklearn import metrics\n",
    "from scipy.optimize import minimize\n",
    "import scipy.stats\n",
    "from tqdm import tqdm\n",
    "import pprint\n",
    "from patsy import dmatrices, dmatrix\n",
    "from scipy.stats import t\n",
    "from sklearn.linear_model import LinearRegression\n",
    "from sklearn.linear_model import LogisticRegression\n",
    "from sklearn.ensemble import RandomForestClassifier\n",
    "from sklearn.metrics import confusion_matrix\n",
    "import matplotlib.pyplot as plt\n",
    "import itertools\n",
    "%matplotlib inline"
   ]
  },
  {
   "cell_type": "markdown",
   "metadata": {},
   "source": [
    "### Helper Functions\n",
    "Below are a series of function to perform 1) multi-class ordered logistic regression and 2) normal multi-class logistic regression. These functions were created by a combination of a teacher at Metis and myself. "
   ]
  },
  {
   "cell_type": "code",
   "execution_count": 36,
   "metadata": {
    "collapsed": false
   },
   "outputs": [],
   "source": [
    "### Ordered Logit ###\n",
    "\n",
    "def ordered_probit_mle(b,X,y):\n",
    "    \"\"\"A function to compute the ordered probit log-likelihood.\"\"\"\n",
    "    X = np.array(X)\n",
    "    y = np.array(y)\n",
    "    xb = X.dot(b[0:(X.shape[1])])    #compute xb\n",
    "    mu = [float('-inf'),0]    #initialize the list of mus\n",
    "    for i in range(len(b[X.shape[1]:])):    #loop over categories\n",
    "        mu = mu + [mu[i+1] + np.exp(b[X.shape[1]:][i])]    #and create each mu\n",
    "    mu = mu + [float('inf')]    #append infinity on the end\n",
    "    probs = np.zeros(len(y))    #set up an array of 0s\n",
    "    for i in range(1,len(set(y)) + 1):    #loop over categories\n",
    "        probs = probs + (scipy.stats.norm.cdf(mu[i] - xb) - scipy.stats.norm.cdf(mu[i - 1] - xb))*(y == list(set(y))[i-1]) \n",
    "    probs[np.where(probs < 1e-100)[0]] = 1e-100\n",
    "    return -1*sum(np.log(probs))\n",
    "\n",
    "def OP_predicted_values(b,X):\n",
    "    \"\"\"A function to compute predicted values in the ordered probit.\"\"\"\n",
    "    X = np.array(X)\n",
    "    xb = X.dot(b[0:(X.shape[1])])    #compute xb\n",
    "    mu = [float('-inf'),0]    #initialize the list of mus\n",
    "    for i in range(len(b[X.shape[1]:])):    #loop over categories\n",
    "        mu = mu + [mu[i+1] + np.exp(b[X.shape[1]:][i])]    #and create each mu\n",
    "    mu = mu + [float('inf')]    #append infinity on the end\n",
    "    y_pred = np.zeros(len(xb))    #set up an array of zeros\n",
    "    for i in range(1,len(mu)):    #loop over categories\n",
    "        y_pred = y_pred + (((mu[i-1]<xb)*1*(mu[i]>xb)*1)*(i-1))    #check which category each falls in\n",
    "    return y_pred\n",
    "\n",
    "def ordered_logit_effects(b,X,which_variable,num_x):\n",
    "    \"\"\"A function to compute the predicted probability as x varies\"\"\"\n",
    "    beta = b[:X.shape[1]]\n",
    "    X = np.array(X)\n",
    "    x_mean = np.mean(X,0)    #compute the means\n",
    "    mu = [float('-inf'),0]    #initialize the list of mus\n",
    "    for i in range(len(b[X.shape[1]:])):    #loop over categories\n",
    "        mu = mu + [mu[i+1] + np.exp(b[X.shape[1]:][i])]    #and create each mu\n",
    "    mu = mu + [float('inf')]    #append infinity on the end\n",
    "    grid = np.linspace(0,max(X[:,which_variable]) / 3.0,num_x)    #make a grid\n",
    "    probs = []    #a list to hold the predicted probabilities\n",
    "    for g in grid:    #loop over grid\n",
    "        x_mean[which_variable] = g    #replace\n",
    "        xb = x_mean * beta\n",
    "        probs_list = []     # probability of each category, given g/x\n",
    "        for i in range(1,len(set(y)) + 1):    #loop over categories\n",
    "            probs_list.append((scipy.stats.norm.cdf(mu[i] - xb) - scipy.stats.norm.cdf(mu[i - 1] - xb)))    #compute probability\n",
    "        probs.append(np.array(probs_list).mean(axis=1))\n",
    "    return probs, grid\n",
    "\n",
    "def bootstrap_ordered_logit(X_train, y_train, X_test, n_boot=1000):\n",
    "    coefficients = []\n",
    "    predictions = []\n",
    "    X_train = np.array(X_train)\n",
    "    y_train = np.array(y_train)\n",
    "    X_test = np.array(X_test)\n",
    "    \n",
    "    for _ in tqdm(range(n_boot)):\n",
    "        boot = np.random.randint(0, len(y_train)-1, len(y_train))\n",
    "        y_boot = y_train[boot]\n",
    "        X_boot = X_train[boot]\n",
    "        \n",
    "        # Get starting betas from OLS\n",
    "        ols = LinearRegression()\n",
    "        ols.fit(X_boot, y_boot)\n",
    "        betas = ols.coef_\n",
    "\n",
    "        # Run Ordinal Logit Regression model\n",
    "        N = len(y_boot)\n",
    "        b = list(betas) + list(np.random.uniform(0,1.0,len(set(y_boot))-2))\n",
    "        model_nm = minimize(ordered_probit_mle, x0 = b, args = (X_boot, y_boot), \n",
    "                            method = 'Nelder-Mead', options={'maxiter': 3000})\n",
    "        cs = model_nm.x\n",
    "        coefficients.append(cs)\n",
    "        \n",
    "        # Predict classes\n",
    "        y_pred = OP_predicted_values(cs, X_test)\n",
    "        predictions.append(y_pred)\n",
    "    \n",
    "    return [np.mean(np.array(coefficients), 0),\n",
    "            np.std(np.array(coefficients), 0),\n",
    "            np.percentile(np.array(coefficients), 2.5, 0),\n",
    "            np.percentile(np.array(coefficients), 97.5, 0),\n",
    "            scipy.stats.mstats.mode(predictions, 0)[0][0].data]\n",
    "\n",
    "\n",
    "### Normal Logit ###\n",
    "\n",
    "def logit_effects(b, intercept, X, num_x, which_variable, category, city, cutoff):\n",
    "    \"\"\"A function to compute the predicted probability as x varies\"\"\"\n",
    "    x_mean = np.mean(X,0)    #compute the means\n",
    "    x_mean[cutoff:] = 0\n",
    "    x_mean[category] = 1.0\n",
    "    x_mean[city] = 1.0\n",
    "    grid = np.linspace(0,np.percentile(X[which_variable],97.5),num_x)    #make a grid\n",
    "    probs = []    #a list to hold the predicted probabilities\n",
    "    \n",
    "    for g in grid:    #loop over grid\n",
    "        x_mean[which_variable] = g    #replace\n",
    "        xb_total = 0\n",
    "        for i in range(3):\n",
    "            xb_total += np.exp(intercept[i] + x_mean.dot(b[i]))\n",
    "        prob_list = []\n",
    "        for i in range(3):\n",
    "            prob_list.append(np.exp(intercept[i] + x_mean.dot(b[i]))/(1 + xb_total))    #compute the logit transform\n",
    "        prob_list.append(1 / (1 + xb_total))\n",
    "        probs.append(prob_list)\n",
    "    return probs, grid\n",
    "\n",
    "def logit_effects_sample(b, intercept, business_X, total_X, num_g, which_variable):\n",
    "    \"\"\"A function to compute the predicted probability as x varies for a particular business\"\"\"\n",
    "    x_mean = np.mean(business_X,0)    #compute the means\n",
    "    grid = np.linspace(0,np.percentile(total_X[which_variable],97.5),num_g)    #make a grid\n",
    "    probs = []    #a list to hold the predicted probabilities\n",
    "    for g in grid:    #loop over grid\n",
    "        x_mean[which_variable] = g    #replace\n",
    "        xb_total = 0\n",
    "        for i in range(3):\n",
    "            xb_total += np.exp(intercept[i] + x_mean.dot(b[i]))\n",
    "        prob_list = []\n",
    "        for i in range(3):\n",
    "            prob_list.append(np.exp(intercept[i] + x_mean.dot(b[i]))/(1 + xb_total))    #compute the logit transform\n",
    "        prob_list.append(1 / (1 + xb_total))\n",
    "        probs.append(prob_list)\n",
    "    return probs, grid\n",
    "\n",
    "def logit_effects_bin(b, intercept, business_X, total_X, num_g, which_variable):\n",
    "    \"\"\"A function to compute the predicted probability as x varies\"\"\"\n",
    "    x_mean = np.mean(business_X,0)    #compute the means\n",
    "    grid = np.linspace(0,np.percentile(total_X[which_variable],97.5),num_g)    #make a grid\n",
    "    probs = []    #a list to hold the predicted probabilities\n",
    "    for g in grid:    #loop over grid\n",
    "        x_mean[which_variable] = g    #replace\n",
    "        probs.append((np.exp(intercept + x_mean.dot(b))/(1 + np.exp(intercept + x_mean.dot(b))))[0])    #compute the logit transform\n",
    "    return probs, grid\n",
    "\n",
    "def bootstrap_logit(X_train, y_train, X_test, n_boot=1000):\n",
    "    coefficients = []\n",
    "    intercepts = []\n",
    "    predictions = []\n",
    "    X_train = np.array(X_train)\n",
    "    y_train = np.array(y_train)\n",
    "    X_test = np.array(X_test)\n",
    "    \n",
    "    for _ in tqdm(range(n_boot)):\n",
    "        boot = np.random.randint(0, len(y_train)-1, len(y_train))\n",
    "        y_boot = y_train[boot]\n",
    "        X_boot = X_train[boot]\n",
    "        \n",
    "        lr = LogisticRegression()\n",
    "        lr.fit(X_boot, y_boot)\n",
    "        coefficients.append(lr.coef_)\n",
    "        intercepts.append(lr.intercept_)\n",
    "        \n",
    "        # Predict classes\n",
    "        y_pred = lr.predict(X_test)\n",
    "        predictions.append(y_pred)\n",
    "    \n",
    "    return [np.mean(np.array(coefficients), 0),\n",
    "            np.mean(np.array(intercepts), 0),\n",
    "            np.std(np.array(coefficients), 0),\n",
    "            np.percentile(np.array(coefficients), 2.5, 0),\n",
    "            np.percentile(np.array(coefficients), 97.5, 0),\n",
    "            scipy.stats.mstats.mode(predictions, 0)[0][0].data]"
   ]
  },
  {
   "cell_type": "markdown",
   "metadata": {},
   "source": [
    "# Logistic Regression"
   ]
  },
  {
   "cell_type": "markdown",
   "metadata": {},
   "source": [
    "Load the dataframe containing labels and features that was produced in the file **yelp_data_exploration.ipynb**"
   ]
  },
  {
   "cell_type": "code",
   "execution_count": 37,
   "metadata": {
    "collapsed": false
   },
   "outputs": [],
   "source": [
    "with open('pickle/total_clean_github.pickle', 'rb') as handle:\n",
    "    df = pickle.load(handle)"
   ]
  },
  {
   "cell_type": "code",
   "execution_count": 38,
   "metadata": {
    "collapsed": false
   },
   "outputs": [
    {
     "data": {
      "text/html": [
       "<div>\n",
       "<table border=\"1\" class=\"dataframe\">\n",
       "  <thead>\n",
       "    <tr style=\"text-align: right;\">\n",
       "      <th></th>\n",
       "      <th>business_id</th>\n",
       "      <th>name</th>\n",
       "      <th>category_main</th>\n",
       "      <th>city</th>\n",
       "      <th>state</th>\n",
       "      <th>latitude</th>\n",
       "      <th>longitude</th>\n",
       "      <th>review_count</th>\n",
       "      <th>stars</th>\n",
       "      <th>num_checkins</th>\n",
       "      <th>...</th>\n",
       "      <th>votes.funny</th>\n",
       "      <th>votes.useful</th>\n",
       "      <th>total_votes</th>\n",
       "      <th>user_avg_num_compliments</th>\n",
       "      <th>user_num_elite</th>\n",
       "      <th>user_avg_num_friends</th>\n",
       "      <th>user_avg_review_count</th>\n",
       "      <th>user_avg_num_fans</th>\n",
       "      <th>num_photos</th>\n",
       "      <th>stars_int</th>\n",
       "    </tr>\n",
       "  </thead>\n",
       "  <tbody>\n",
       "    <tr>\n",
       "      <th>0</th>\n",
       "      <td>5UmKMjUEUNdYWqANhGckJw</td>\n",
       "      <td>Mr Hoagie</td>\n",
       "      <td>Restaurants</td>\n",
       "      <td>Pittsburgh, PA</td>\n",
       "      <td>PA</td>\n",
       "      <td>40.354327</td>\n",
       "      <td>-79.900706</td>\n",
       "      <td>4</td>\n",
       "      <td>4.5</td>\n",
       "      <td>0.0</td>\n",
       "      <td>...</td>\n",
       "      <td>0.0</td>\n",
       "      <td>0.0</td>\n",
       "      <td>0.0</td>\n",
       "      <td>4.0</td>\n",
       "      <td>0.0</td>\n",
       "      <td>1.0</td>\n",
       "      <td>24.0</td>\n",
       "      <td>0.0</td>\n",
       "      <td>1.0</td>\n",
       "      <td>4</td>\n",
       "    </tr>\n",
       "    <tr>\n",
       "      <th>1</th>\n",
       "      <td>UsFtqoBl7naz8AVUBZMjQQ</td>\n",
       "      <td>Clancy's Pub</td>\n",
       "      <td>Nightlife</td>\n",
       "      <td>Pittsburgh, PA</td>\n",
       "      <td>PA</td>\n",
       "      <td>40.350553</td>\n",
       "      <td>-79.886814</td>\n",
       "      <td>4</td>\n",
       "      <td>3.5</td>\n",
       "      <td>0.0</td>\n",
       "      <td>...</td>\n",
       "      <td>0.0</td>\n",
       "      <td>0.0</td>\n",
       "      <td>0.0</td>\n",
       "      <td>27.0</td>\n",
       "      <td>1.0</td>\n",
       "      <td>10.0</td>\n",
       "      <td>60.0</td>\n",
       "      <td>2.0</td>\n",
       "      <td>0.0</td>\n",
       "      <td>3</td>\n",
       "    </tr>\n",
       "    <tr>\n",
       "      <th>3</th>\n",
       "      <td>cE27W9VPgO88Qxe4ol6y_g</td>\n",
       "      <td>Cool Springs Golf Center</td>\n",
       "      <td>Active Life</td>\n",
       "      <td>Pittsburgh, PA</td>\n",
       "      <td>PA</td>\n",
       "      <td>40.354116</td>\n",
       "      <td>-80.014660</td>\n",
       "      <td>5</td>\n",
       "      <td>2.5</td>\n",
       "      <td>9.0</td>\n",
       "      <td>...</td>\n",
       "      <td>0.0</td>\n",
       "      <td>2.0</td>\n",
       "      <td>2.0</td>\n",
       "      <td>13.0</td>\n",
       "      <td>1.0</td>\n",
       "      <td>6.0</td>\n",
       "      <td>46.0</td>\n",
       "      <td>1.0</td>\n",
       "      <td>0.0</td>\n",
       "      <td>2</td>\n",
       "    </tr>\n",
       "    <tr>\n",
       "      <th>4</th>\n",
       "      <td>HZdLhv6COCleJMo7nPl-RA</td>\n",
       "      <td>Verizon</td>\n",
       "      <td>Shopping</td>\n",
       "      <td>Pittsburgh, PA</td>\n",
       "      <td>PA</td>\n",
       "      <td>40.357620</td>\n",
       "      <td>-80.059980</td>\n",
       "      <td>5</td>\n",
       "      <td>2.5</td>\n",
       "      <td>0.0</td>\n",
       "      <td>...</td>\n",
       "      <td>5.0</td>\n",
       "      <td>9.0</td>\n",
       "      <td>23.0</td>\n",
       "      <td>527.0</td>\n",
       "      <td>1.0</td>\n",
       "      <td>181.0</td>\n",
       "      <td>185.0</td>\n",
       "      <td>9.0</td>\n",
       "      <td>0.0</td>\n",
       "      <td>2</td>\n",
       "    </tr>\n",
       "    <tr>\n",
       "      <th>7</th>\n",
       "      <td>KayYbHCt-RkbGcPdGOThNg</td>\n",
       "      <td>Alexion's Bar &amp; Grill</td>\n",
       "      <td>Restaurants</td>\n",
       "      <td>Pittsburgh, PA</td>\n",
       "      <td>PA</td>\n",
       "      <td>40.415517</td>\n",
       "      <td>-80.067534</td>\n",
       "      <td>21</td>\n",
       "      <td>4.0</td>\n",
       "      <td>55.0</td>\n",
       "      <td>...</td>\n",
       "      <td>4.0</td>\n",
       "      <td>7.0</td>\n",
       "      <td>15.0</td>\n",
       "      <td>122.0</td>\n",
       "      <td>0.0</td>\n",
       "      <td>11.0</td>\n",
       "      <td>66.0</td>\n",
       "      <td>4.0</td>\n",
       "      <td>0.0</td>\n",
       "      <td>4</td>\n",
       "    </tr>\n",
       "  </tbody>\n",
       "</table>\n",
       "<p>5 rows × 24 columns</p>\n",
       "</div>"
      ],
      "text/plain": [
       "              business_id                      name category_main  \\\n",
       "0  5UmKMjUEUNdYWqANhGckJw                 Mr Hoagie   Restaurants   \n",
       "1  UsFtqoBl7naz8AVUBZMjQQ              Clancy's Pub     Nightlife   \n",
       "3  cE27W9VPgO88Qxe4ol6y_g  Cool Springs Golf Center   Active Life   \n",
       "4  HZdLhv6COCleJMo7nPl-RA                   Verizon      Shopping   \n",
       "7  KayYbHCt-RkbGcPdGOThNg     Alexion's Bar & Grill   Restaurants   \n",
       "\n",
       "             city state   latitude  longitude  review_count  stars  \\\n",
       "0  Pittsburgh, PA    PA  40.354327 -79.900706             4    4.5   \n",
       "1  Pittsburgh, PA    PA  40.350553 -79.886814             4    3.5   \n",
       "3  Pittsburgh, PA    PA  40.354116 -80.014660             5    2.5   \n",
       "4  Pittsburgh, PA    PA  40.357620 -80.059980             5    2.5   \n",
       "7  Pittsburgh, PA    PA  40.415517 -80.067534            21    4.0   \n",
       "\n",
       "   num_checkins    ...      votes.funny  votes.useful  total_votes  \\\n",
       "0           0.0    ...              0.0           0.0          0.0   \n",
       "1           0.0    ...              0.0           0.0          0.0   \n",
       "3           9.0    ...              0.0           2.0          2.0   \n",
       "4           0.0    ...              5.0           9.0         23.0   \n",
       "7          55.0    ...              4.0           7.0         15.0   \n",
       "\n",
       "   user_avg_num_compliments  user_num_elite  user_avg_num_friends  \\\n",
       "0                       4.0             0.0                   1.0   \n",
       "1                      27.0             1.0                  10.0   \n",
       "3                      13.0             1.0                   6.0   \n",
       "4                     527.0             1.0                 181.0   \n",
       "7                     122.0             0.0                  11.0   \n",
       "\n",
       "   user_avg_review_count  user_avg_num_fans  num_photos  stars_int  \n",
       "0                   24.0                0.0         1.0          4  \n",
       "1                   60.0                2.0         0.0          3  \n",
       "3                   46.0                1.0         0.0          2  \n",
       "4                  185.0                9.0         0.0          2  \n",
       "7                   66.0                4.0         0.0          4  \n",
       "\n",
       "[5 rows x 24 columns]"
      ]
     },
     "execution_count": 38,
     "metadata": {},
     "output_type": "execute_result"
    }
   ],
   "source": [
    "df.head()"
   ]
  },
  {
   "cell_type": "markdown",
   "metadata": {},
   "source": [
    "Taking a look at the size of each class, it may be best to employ over- and under-sampling to even out the class imbalance"
   ]
  },
  {
   "cell_type": "code",
   "execution_count": 39,
   "metadata": {
    "collapsed": false
   },
   "outputs": [
    {
     "data": {
      "text/plain": [
       "stars_int\n",
       "1     2167\n",
       "2     9269\n",
       "3    24402\n",
       "4    27136\n",
       "dtype: int64"
      ]
     },
     "execution_count": 39,
     "metadata": {},
     "output_type": "execute_result"
    }
   ],
   "source": [
    "stars = df.groupby(by='stars_int')\n",
    "stars.size()"
   ]
  },
  {
   "cell_type": "markdown",
   "metadata": {},
   "source": [
    "First, split the data into a train and test set so that our test data does not end up in the sample"
   ]
  },
  {
   "cell_type": "code",
   "execution_count": 41,
   "metadata": {
    "collapsed": false
   },
   "outputs": [],
   "source": [
    "mask = np.random.rand(df.shape[0]) < 0.7\n",
    "train = df[mask]\n",
    "test = df[~mask]"
   ]
  },
  {
   "cell_type": "markdown",
   "metadata": {},
   "source": [
    "Now create even samples from the training data"
   ]
  },
  {
   "cell_type": "code",
   "execution_count": 42,
   "metadata": {
    "collapsed": false
   },
   "outputs": [
    {
     "name": "stdout",
     "output_type": "stream",
     "text": [
      "There are 20000 items in this sample\n"
     ]
    }
   ],
   "source": [
    "sample1 = train[train.stars_int == 1].sample(5000, replace=True)\n",
    "sample2 = train[train.stars_int == 2].sample(5000, replace=True)\n",
    "sample3 = train[train.stars_int == 3].sample(5000, replace=True)\n",
    "sample4 = train[train.stars_int == 4].sample(5000, replace=True)\n",
    "sample = sample1.append(sample2).append(sample3).append(sample4)\n",
    "\n",
    "print 'There are %d items in this sample' % len(sample)"
   ]
  },
  {
   "cell_type": "code",
   "execution_count": 43,
   "metadata": {
    "collapsed": false
   },
   "outputs": [
    {
     "data": {
      "text/plain": [
       "stars_int\n",
       "1    5000\n",
       "2    5000\n",
       "3    5000\n",
       "4    5000\n",
       "dtype: int64"
      ]
     },
     "execution_count": 43,
     "metadata": {},
     "output_type": "execute_result"
    }
   ],
   "source": [
    "stars_sample = sample.groupby(by='stars_int')\n",
    "stars_sample.size()"
   ]
  },
  {
   "cell_type": "code",
   "execution_count": 44,
   "metadata": {
    "collapsed": false
   },
   "outputs": [
    {
     "data": {
      "text/html": [
       "<div>\n",
       "<table border=\"1\" class=\"dataframe\">\n",
       "  <thead>\n",
       "    <tr style=\"text-align: right;\">\n",
       "      <th></th>\n",
       "      <th>business_id</th>\n",
       "      <th>name</th>\n",
       "      <th>category_main</th>\n",
       "      <th>city</th>\n",
       "      <th>state</th>\n",
       "      <th>latitude</th>\n",
       "      <th>longitude</th>\n",
       "      <th>review_count</th>\n",
       "      <th>stars</th>\n",
       "      <th>num_checkins</th>\n",
       "      <th>...</th>\n",
       "      <th>votes.funny</th>\n",
       "      <th>votes.useful</th>\n",
       "      <th>total_votes</th>\n",
       "      <th>user_avg_num_compliments</th>\n",
       "      <th>user_num_elite</th>\n",
       "      <th>user_avg_num_friends</th>\n",
       "      <th>user_avg_review_count</th>\n",
       "      <th>user_avg_num_fans</th>\n",
       "      <th>num_photos</th>\n",
       "      <th>stars_int</th>\n",
       "    </tr>\n",
       "  </thead>\n",
       "  <tbody>\n",
       "    <tr>\n",
       "      <th>8995</th>\n",
       "      <td>qeOrjo2GlITleeZiW8y-fw</td>\n",
       "      <td>KFC</td>\n",
       "      <td>Restaurants</td>\n",
       "      <td>Las Vegas, NV</td>\n",
       "      <td>NV</td>\n",
       "      <td>36.145100</td>\n",
       "      <td>-115.137000</td>\n",
       "      <td>13</td>\n",
       "      <td>1.5</td>\n",
       "      <td>23.0</td>\n",
       "      <td>...</td>\n",
       "      <td>4.0</td>\n",
       "      <td>1.0</td>\n",
       "      <td>7.0</td>\n",
       "      <td>103.0</td>\n",
       "      <td>0.0</td>\n",
       "      <td>12.0</td>\n",
       "      <td>34.0</td>\n",
       "      <td>1.0</td>\n",
       "      <td>2.0</td>\n",
       "      <td>1</td>\n",
       "    </tr>\n",
       "    <tr>\n",
       "      <th>12343</th>\n",
       "      <td>0NeDVUK7wtKDZ3OvgB0I9A</td>\n",
       "      <td>Sam's Club</td>\n",
       "      <td>Shopping</td>\n",
       "      <td>Madison, WI</td>\n",
       "      <td>WI</td>\n",
       "      <td>43.051154</td>\n",
       "      <td>-89.505472</td>\n",
       "      <td>5</td>\n",
       "      <td>1.5</td>\n",
       "      <td>60.0</td>\n",
       "      <td>...</td>\n",
       "      <td>1.0</td>\n",
       "      <td>10.0</td>\n",
       "      <td>15.0</td>\n",
       "      <td>16.0</td>\n",
       "      <td>1.0</td>\n",
       "      <td>6.0</td>\n",
       "      <td>135.0</td>\n",
       "      <td>2.0</td>\n",
       "      <td>0.0</td>\n",
       "      <td>1</td>\n",
       "    </tr>\n",
       "    <tr>\n",
       "      <th>67320</th>\n",
       "      <td>k6HW-HxR9DkajC-4nLPhCQ</td>\n",
       "      <td>Royal Cab</td>\n",
       "      <td>Hotels &amp; Travel</td>\n",
       "      <td>Charlotte, NC</td>\n",
       "      <td>NC</td>\n",
       "      <td>35.242507</td>\n",
       "      <td>-80.822494</td>\n",
       "      <td>4</td>\n",
       "      <td>1.5</td>\n",
       "      <td>0.0</td>\n",
       "      <td>...</td>\n",
       "      <td>0.0</td>\n",
       "      <td>11.0</td>\n",
       "      <td>11.0</td>\n",
       "      <td>23.0</td>\n",
       "      <td>1.0</td>\n",
       "      <td>11.0</td>\n",
       "      <td>47.0</td>\n",
       "      <td>2.0</td>\n",
       "      <td>0.0</td>\n",
       "      <td>1</td>\n",
       "    </tr>\n",
       "    <tr>\n",
       "      <th>39298</th>\n",
       "      <td>3CLSpUACaPywC58Dphpf8Q</td>\n",
       "      <td>Gnc</td>\n",
       "      <td>Shopping</td>\n",
       "      <td>Phoenix, AZ</td>\n",
       "      <td>AZ</td>\n",
       "      <td>33.276754</td>\n",
       "      <td>-111.786914</td>\n",
       "      <td>7</td>\n",
       "      <td>1.5</td>\n",
       "      <td>10.0</td>\n",
       "      <td>...</td>\n",
       "      <td>1.0</td>\n",
       "      <td>8.0</td>\n",
       "      <td>9.0</td>\n",
       "      <td>1.0</td>\n",
       "      <td>0.0</td>\n",
       "      <td>4.0</td>\n",
       "      <td>24.0</td>\n",
       "      <td>0.0</td>\n",
       "      <td>0.0</td>\n",
       "      <td>1</td>\n",
       "    </tr>\n",
       "    <tr>\n",
       "      <th>14843</th>\n",
       "      <td>ZCHPwh2qjsrm_TOwTvY-wQ</td>\n",
       "      <td>Ekmark &amp; Ekmark</td>\n",
       "      <td>Professional Services</td>\n",
       "      <td>Phoenix, AZ</td>\n",
       "      <td>AZ</td>\n",
       "      <td>33.534254</td>\n",
       "      <td>-111.927419</td>\n",
       "      <td>6</td>\n",
       "      <td>1.0</td>\n",
       "      <td>0.0</td>\n",
       "      <td>...</td>\n",
       "      <td>13.0</td>\n",
       "      <td>11.0</td>\n",
       "      <td>25.0</td>\n",
       "      <td>4.0</td>\n",
       "      <td>0.0</td>\n",
       "      <td>6.0</td>\n",
       "      <td>27.0</td>\n",
       "      <td>0.0</td>\n",
       "      <td>0.0</td>\n",
       "      <td>1</td>\n",
       "    </tr>\n",
       "  </tbody>\n",
       "</table>\n",
       "<p>5 rows × 24 columns</p>\n",
       "</div>"
      ],
      "text/plain": [
       "                  business_id             name          category_main  \\\n",
       "8995   qeOrjo2GlITleeZiW8y-fw              KFC            Restaurants   \n",
       "12343  0NeDVUK7wtKDZ3OvgB0I9A       Sam's Club               Shopping   \n",
       "67320  k6HW-HxR9DkajC-4nLPhCQ        Royal Cab        Hotels & Travel   \n",
       "39298  3CLSpUACaPywC58Dphpf8Q              Gnc               Shopping   \n",
       "14843  ZCHPwh2qjsrm_TOwTvY-wQ  Ekmark & Ekmark  Professional Services   \n",
       "\n",
       "                city state   latitude   longitude  review_count  stars  \\\n",
       "8995   Las Vegas, NV    NV  36.145100 -115.137000            13    1.5   \n",
       "12343    Madison, WI    WI  43.051154  -89.505472             5    1.5   \n",
       "67320  Charlotte, NC    NC  35.242507  -80.822494             4    1.5   \n",
       "39298    Phoenix, AZ    AZ  33.276754 -111.786914             7    1.5   \n",
       "14843    Phoenix, AZ    AZ  33.534254 -111.927419             6    1.0   \n",
       "\n",
       "       num_checkins    ...      votes.funny  votes.useful  total_votes  \\\n",
       "8995           23.0    ...              4.0           1.0          7.0   \n",
       "12343          60.0    ...              1.0          10.0         15.0   \n",
       "67320           0.0    ...              0.0          11.0         11.0   \n",
       "39298          10.0    ...              1.0           8.0          9.0   \n",
       "14843           0.0    ...             13.0          11.0         25.0   \n",
       "\n",
       "       user_avg_num_compliments  user_num_elite  user_avg_num_friends  \\\n",
       "8995                      103.0             0.0                  12.0   \n",
       "12343                      16.0             1.0                   6.0   \n",
       "67320                      23.0             1.0                  11.0   \n",
       "39298                       1.0             0.0                   4.0   \n",
       "14843                       4.0             0.0                   6.0   \n",
       "\n",
       "       user_avg_review_count  user_avg_num_fans  num_photos  stars_int  \n",
       "8995                    34.0                1.0         2.0          1  \n",
       "12343                  135.0                2.0         0.0          1  \n",
       "67320                   47.0                2.0         0.0          1  \n",
       "39298                   24.0                0.0         0.0          1  \n",
       "14843                   27.0                0.0         0.0          1  \n",
       "\n",
       "[5 rows x 24 columns]"
      ]
     },
     "execution_count": 44,
     "metadata": {},
     "output_type": "execute_result"
    }
   ],
   "source": [
    "sample.head()"
   ]
  },
  {
   "cell_type": "markdown",
   "metadata": {},
   "source": [
    "## Feature Selection"
   ]
  },
  {
   "cell_type": "markdown",
   "metadata": {},
   "source": [
    "Since the ultimate goal is to create a tool that helps a business improve their ratings, I chose only the features that I felt a business could somewhat control. Even if a business cannot directly control all of these features, they can incentivize customers in creative ways to help improve these metrics and, hence, their business. "
   ]
  },
  {
   "cell_type": "code",
   "execution_count": 45,
   "metadata": {
    "collapsed": true
   },
   "outputs": [],
   "source": [
    "indep_vars = ['review_count',\n",
    "              'num_tips',\n",
    "              'avg_time_btw_reviews',\n",
    "              'avg_review_length',\n",
    "              'user_num_elite',\n",
    "              'num_checkins',\n",
    "              'num_photos']"
   ]
  },
  {
   "cell_type": "markdown",
   "metadata": {},
   "source": [
    "### Logistic Regression"
   ]
  },
  {
   "cell_type": "markdown",
   "metadata": {},
   "source": [
    "Split the data into a training and testing set"
   ]
  },
  {
   "cell_type": "code",
   "execution_count": 46,
   "metadata": {
    "collapsed": false
   },
   "outputs": [],
   "source": [
    "X_train = sample[indep_vars]\n",
    "y_train = sample['stars_int']\n",
    "\n",
    "X_test = test[indep_vars]\n",
    "y_test = test['stars_int']"
   ]
  },
  {
   "cell_type": "markdown",
   "metadata": {},
   "source": [
    "Run an **Ordered Logit Model** using a bootstrap approach so that we can extract the confidence intervals of the coefficients, which will help us determine which independent variables are significant. <br/>\n",
    "The Ordered Logit model is able to take advantage of the ordinal nature of the dependent variable - Yelp ratings. "
   ]
  },
  {
   "cell_type": "code",
   "execution_count": 47,
   "metadata": {
    "collapsed": false
   },
   "outputs": [
    {
     "name": "stderr",
     "output_type": "stream",
     "text": [
      "100%|██████████| 100/100 [1:09:19<00:00, 41.20s/it]\n"
     ]
    }
   ],
   "source": [
    "coeff_ordered, se_ordered, ci_low_ordered, ci_hi_ordered, preds_ordered = bootstrap_ordered_logit(X_train, y_train, X_test, n_boot=100)"
   ]
  },
  {
   "cell_type": "markdown",
   "metadata": {},
   "source": [
    "Find the accuracy / percent correctly predicted"
   ]
  },
  {
   "cell_type": "code",
   "execution_count": 48,
   "metadata": {
    "collapsed": false
   },
   "outputs": [
    {
     "name": "stdout",
     "output_type": "stream",
     "text": [
      "Percent correctly predicted is: 5.6\n"
     ]
    }
   ],
   "source": [
    "percent_correct_ordered = sum((preds_ordered.astype(int) - y_test.values)==0)/float(len(y_test))*100\n",
    "print 'Percent correctly predicted is: %.1f' % percent_correct_ordered"
   ]
  },
  {
   "cell_type": "markdown",
   "metadata": {},
   "source": [
    "Run a **Logit Model** using a bootstrap approach. <br/>\n",
    "I want to test if the Ordered Logit model is in fact giving better results."
   ]
  },
  {
   "cell_type": "code",
   "execution_count": 49,
   "metadata": {
    "collapsed": false
   },
   "outputs": [
    {
     "name": "stderr",
     "output_type": "stream",
     "text": [
      "100%|██████████| 100/100 [00:48<00:00,  2.06it/s]\n"
     ]
    }
   ],
   "source": [
    "coeff, inter, se, ci_low, ci_hi, preds = bootstrap_logit(X_train, y_train, X_test, n_boot=100)"
   ]
  },
  {
   "cell_type": "markdown",
   "metadata": {},
   "source": [
    "Find the accuracy"
   ]
  },
  {
   "cell_type": "code",
   "execution_count": 51,
   "metadata": {
    "collapsed": false
   },
   "outputs": [
    {
     "name": "stdout",
     "output_type": "stream",
     "text": [
      "Percent correctly predicted is: 31.3\n"
     ]
    }
   ],
   "source": [
    "percent_correct = sum((preds.astype(int) - y_test.values)==0)/float(len(y_test))*100\n",
    "print 'Percent correctly predicted is: %.1f' % percent_correct"
   ]
  },
  {
   "cell_type": "markdown",
   "metadata": {},
   "source": [
    "Given the higher accuracy for the normal Logit Model, we will continue using this model's information."
   ]
  },
  {
   "cell_type": "markdown",
   "metadata": {},
   "source": [
    "### Look at the Results"
   ]
  },
  {
   "cell_type": "markdown",
   "metadata": {},
   "source": [
    "Let's take a look at each of the feature's coefficients. Each feature has 4 coefficients - one for each class. Here is the coefficients for the first class - 1 star. These coefficients tell us that as a business' review count and average review length increases, the probability of having 1 star increases. This makes some logical sense - as reviews get longer, it may be an indication of a customer who felt strong about the business in a negative way; however, the review count makes less sense. The coefficients also tell us that as a business' number of tips, average time between reviews, number of elite reviewers, number of checkins, and number of photos increases, the probability of having 1 star decreases. This also makes sense as having more of all of these would seem to indicate a healthy, well-liked business. "
   ]
  },
  {
   "cell_type": "code",
   "execution_count": 53,
   "metadata": {
    "collapsed": false
   },
   "outputs": [
    {
     "data": {
      "text/plain": [
       "[(0.022829011893223162, 'review_count'),\n",
       " (-0.017667887768894133, 'num_tips'),\n",
       " (-0.00021310985169748924, 'avg_time_btw_reviews'),\n",
       " (0.0010201410896751432, 'avg_review_length'),\n",
       " (-0.27280124703899961, 'user_num_elite'),\n",
       " (-0.0038371422400684356, 'num_checkins'),\n",
       " (-0.29383956271182315, 'num_photos')]"
      ]
     },
     "execution_count": 53,
     "metadata": {},
     "output_type": "execute_result"
    }
   ],
   "source": [
    "zip(coeff[0], indep_vars)"
   ]
  },
  {
   "cell_type": "markdown",
   "metadata": {},
   "source": [
    "And here are the coefficients for all 4 classes for the last feature - number of photos. Here we can see that the beta for the number of photos feature goes from negative to positive as the number of stars increases. This means that as the number of photos increases, the model predicts that the probability of having 1, 2, or 3 stars decreases while the probability of having 4 stars increases, which would be expected."
   ]
  },
  {
   "cell_type": "code",
   "execution_count": 70,
   "metadata": {
    "collapsed": false
   },
   "outputs": [
    {
     "data": {
      "text/plain": [
       "[(-0.29383956271182315, '1 star'),\n",
       " (-0.061014674991657067, '2 stars'),\n",
       " (-0.01485980974722886, '3 stars'),\n",
       " (0.082431978779361703, '4 stars')]"
      ]
     },
     "execution_count": 70,
     "metadata": {},
     "output_type": "execute_result"
    }
   ],
   "source": [
    "zip(coeff[:,6], ['1 star', '2 stars', '3 stars', '4 stars'])"
   ]
  },
  {
   "cell_type": "markdown",
   "metadata": {},
   "source": [
    "Here are the confidence intervals for the coefficients of each feature for the first class - 1 star. As none of the confidence intervals include 0, we can conclude that all of the features are significant in the 1 star class case."
   ]
  },
  {
   "cell_type": "code",
   "execution_count": 58,
   "metadata": {
    "collapsed": false
   },
   "outputs": [
    {
     "data": {
      "text/plain": [
       "[(0.01848772950920595, 0.027232243735341687, 'review_count'),\n",
       " (-0.036672069021609494, -0.0026833103079233504, 'num_tips'),\n",
       " (-0.00042893392963914967, -6.6170188141290008e-05, 'avg_time_btw_reviews'),\n",
       " (0.00092058837670445362, 0.0011255825105746871, 'avg_review_length'),\n",
       " (-0.3108250721663286, -0.232869944833756, 'user_num_elite'),\n",
       " (-0.0067159912116060974, -0.0015492068300922411, 'num_checkins'),\n",
       " (-0.33996626750940712, -0.25557747735371933, 'num_photos')]"
      ]
     },
     "execution_count": 58,
     "metadata": {},
     "output_type": "execute_result"
    }
   ],
   "source": [
    "zip(ci_low[0], ci_hi[0], indep_vars)"
   ]
  },
  {
   "cell_type": "markdown",
   "metadata": {},
   "source": [
    "And here are the confidence intervals for the coefficients of all 4 classes for the first feature - review count. The confidence interval for the 1, 2, and 4 star case all include 0, meaning that this feature is not significant in these classes. "
   ]
  },
  {
   "cell_type": "code",
   "execution_count": 71,
   "metadata": {
    "collapsed": false
   },
   "outputs": [
    {
     "data": {
      "text/plain": [
       "[(-0.33996626750940712, 0.027232243735341687, '1 star'),\n",
       " (-0.090750173728495406, 0.001984253270689954, '2 stars'),\n",
       " (-0.025566638647882865, -0.00077982762453366055, '3 stars'),\n",
       " (0.064483782338890377, -0.00076007649709290183, '4 stars')]"
      ]
     },
     "execution_count": 71,
     "metadata": {},
     "output_type": "execute_result"
    }
   ],
   "source": [
    "zip(ci_low[:,6], ci_hi[:,0], ['1 star', '2 stars', '3 stars', '4 stars'])"
   ]
  },
  {
   "cell_type": "markdown",
   "metadata": {},
   "source": [
    "## Visualize the Results"
   ]
  },
  {
   "cell_type": "markdown",
   "metadata": {},
   "source": [
    "### Probability Charts\n",
    "As mentioned above, the goal is to see how the probability of having a particular Yelp rating changes as one independent variable changes, holding all else constant. Below is code that create this chart."
   ]
  },
  {
   "cell_type": "markdown",
   "metadata": {},
   "source": [
    "First, sample an individual business from the data to use this business' features. Here we have an Automotive company in Charlotte, NC."
   ]
  },
  {
   "cell_type": "code",
   "execution_count": 92,
   "metadata": {
    "collapsed": false
   },
   "outputs": [
    {
     "data": {
      "text/html": [
       "<div>\n",
       "<table border=\"1\" class=\"dataframe\">\n",
       "  <thead>\n",
       "    <tr style=\"text-align: right;\">\n",
       "      <th></th>\n",
       "      <th>business_id</th>\n",
       "      <th>name</th>\n",
       "      <th>category_main</th>\n",
       "      <th>city</th>\n",
       "      <th>state</th>\n",
       "      <th>latitude</th>\n",
       "      <th>longitude</th>\n",
       "      <th>review_count</th>\n",
       "      <th>stars</th>\n",
       "      <th>num_checkins</th>\n",
       "      <th>...</th>\n",
       "      <th>votes.funny</th>\n",
       "      <th>votes.useful</th>\n",
       "      <th>total_votes</th>\n",
       "      <th>user_avg_num_compliments</th>\n",
       "      <th>user_num_elite</th>\n",
       "      <th>user_avg_num_friends</th>\n",
       "      <th>user_avg_review_count</th>\n",
       "      <th>user_avg_num_fans</th>\n",
       "      <th>num_photos</th>\n",
       "      <th>stars_int</th>\n",
       "    </tr>\n",
       "  </thead>\n",
       "  <tbody>\n",
       "    <tr>\n",
       "      <th>59720</th>\n",
       "      <td>MEKsLIEtRakbGtup1jRA6A</td>\n",
       "      <td>Firestone Complete Auto Care</td>\n",
       "      <td>Automotive</td>\n",
       "      <td>Charlotte, NC</td>\n",
       "      <td>NC</td>\n",
       "      <td>35.033108</td>\n",
       "      <td>-80.805605</td>\n",
       "      <td>6</td>\n",
       "      <td>2.0</td>\n",
       "      <td>9.0</td>\n",
       "      <td>...</td>\n",
       "      <td>2.0</td>\n",
       "      <td>7.0</td>\n",
       "      <td>10.0</td>\n",
       "      <td>157.0</td>\n",
       "      <td>0.0</td>\n",
       "      <td>18.0</td>\n",
       "      <td>114.0</td>\n",
       "      <td>4.0</td>\n",
       "      <td>1.0</td>\n",
       "      <td>2</td>\n",
       "    </tr>\n",
       "  </tbody>\n",
       "</table>\n",
       "<p>1 rows × 24 columns</p>\n",
       "</div>"
      ],
      "text/plain": [
       "                  business_id                          name category_main  \\\n",
       "59720  MEKsLIEtRakbGtup1jRA6A  Firestone Complete Auto Care    Automotive   \n",
       "\n",
       "                city state   latitude  longitude  review_count  stars  \\\n",
       "59720  Charlotte, NC    NC  35.033108 -80.805605             6    2.0   \n",
       "\n",
       "       num_checkins    ...      votes.funny  votes.useful  total_votes  \\\n",
       "59720           9.0    ...              2.0           7.0         10.0   \n",
       "\n",
       "       user_avg_num_compliments  user_num_elite  user_avg_num_friends  \\\n",
       "59720                     157.0             0.0                  18.0   \n",
       "\n",
       "       user_avg_review_count  user_avg_num_fans  num_photos  stars_int  \n",
       "59720                  114.0                4.0         1.0          2  \n",
       "\n",
       "[1 rows x 24 columns]"
      ]
     },
     "execution_count": 92,
     "metadata": {},
     "output_type": "execute_result"
    }
   ],
   "source": [
    "business_features = X_test.sample(1)\n",
    "df[df.index == business_features.index[0]]"
   ]
  },
  {
   "cell_type": "markdown",
   "metadata": {},
   "source": [
    "Create an aggregated X dataframe so that each business can be compared to all businesses in the dataset"
   ]
  },
  {
   "cell_type": "code",
   "execution_count": 88,
   "metadata": {
    "collapsed": true
   },
   "outputs": [],
   "source": [
    "X = X_train.append(X_test)"
   ]
  },
  {
   "cell_type": "markdown",
   "metadata": {},
   "source": [
    "Next, we plot the probability of being in each class as one feature changes, assuming all other features stay constant."
   ]
  },
  {
   "cell_type": "code",
   "execution_count": 93,
   "metadata": {
    "collapsed": false
   },
   "outputs": [
    {
     "data": {
      "image/png": "[encoded data removed]",
      "text/plain": [
       "<matplotlib.figure.Figure at 0x116b33490>"
      ]
     },
     "metadata": {},
     "output_type": "display_data"
    }
   ],
   "source": [
    "plt.figure(figsize=(18,30))\n",
    "\n",
    "c = 1\n",
    "for i in indep_vars:\n",
    "    probs, grid = logit_effects_sample(coeff, inter, business_features, X, num_g = 100, which_variable = i)\n",
    "    ys =  np.array(probs).T\n",
    "    percent_ys = ys /  ys.sum(axis=0).astype(float) * 100 \n",
    "    plt.subplot(7,2,c)\n",
    "    plt.stackplot(grid, percent_ys, labels = ['1 Star', '2 Stars', '3 Stars', '4 Stars'],\n",
    "                 colors=['palegoldenrod', 'orange', 'orangered', 'firebrick'])\n",
    "    plt.xlim(0,max(grid))\n",
    "    plt.ylim(0,100)\n",
    "    plt.title('Probability of Number of Stars as %s Changes' % i)\n",
    "    plt.xlabel(i)\n",
    "    plt.ylabel('Likelihood of Having Each Star Count')\n",
    "    plt.legend(loc='best')\n",
    "    c += 1\n",
    "\n",
    "plt.subplots_adjust(left=None, bottom=None, right=None, top=None, wspace=0.25, hspace=0.3)"
   ]
  },
  {
   "cell_type": "markdown",
   "metadata": {},
   "source": [
    "### Confusion Matrix"
   ]
  },
  {
   "cell_type": "markdown",
   "metadata": {},
   "source": [
    "Below we take a look at the confusion matrix to get a better sense of the models accuracy."
   ]
  },
  {
   "cell_type": "code",
   "execution_count": 97,
   "metadata": {
    "collapsed": false
   },
   "outputs": [],
   "source": [
    "def plot_confusion_matrix(cm, title='Confusion matrix', cmap=plt.cm.Reds):\n",
    "    \"\"\"Creates a confusion matrix.\"\"\"\n",
    "    target_names = ['1 star', '2 stars', '3 stars', '4 stars']\n",
    "    plt.figure(figsize=(5,5))\n",
    "    plt.imshow(cm, interpolation='nearest', cmap=cmap)\n",
    "    plt.title(title)\n",
    "    plt.colorbar()\n",
    "    tick_marks = np.arange(len(target_names))\n",
    "    plt.xticks(tick_marks, target_names)\n",
    "    plt.yticks(tick_marks, target_names)\n",
    "    plt.tight_layout()\n",
    "    plt.ylabel('True label')\n",
    "    plt.xlabel('Predicted label') \n",
    "    \n",
    "    ax = plt.gca()\n",
    "    pos1 = ax.get_position()\n",
    "    pos2 = [pos1.x0 + 0.03, pos1.y0 + 0.1, pos1.width, pos1.height - 0.2]\n",
    "    ax.set_position(pos2)\n",
    "    \n",
    "    plt.savefig('fig/cm')"
   ]
  },
  {
   "cell_type": "markdown",
   "metadata": {},
   "source": [
    "The darker the box, the higher the percentage of correctly predicted businesses. As we can see from looking at the diagnoal, the 1 star class had the highest accuracy, followed by the 4 star class. It appears that the model was biased towards predicting either 1 or 4 stars. This phenomemon can be seen in the chart above - the 1 star and 4 star class have much higher probabilities than the 2 or 3 star classes. This would be something I could investigate further."
   ]
  },
  {
   "cell_type": "code",
   "execution_count": 99,
   "metadata": {
    "collapsed": false
   },
   "outputs": [
    {
     "data": {
      "image/png": "[encoded data removed]",
      "text/plain": [
       "<matplotlib.figure.Figure at 0x116874390>"
      ]
     },
     "metadata": {},
     "output_type": "display_data"
    }
   ],
   "source": [
    "cm = confusion_matrix(np.array(y_test), np.array(preds))\n",
    "cm_normalized = cm.astype('float') / cm.sum(axis=1)[:, np.newaxis]\n",
    "plot_confusion_matrix(cm_normalized)"
   ]
  }
 ],
 "metadata": {
  "kernelspec": {
   "display_name": "Python 2",
   "language": "python",
   "name": "python2"
  },
  "language_info": {
   "codemirror_mode": {
    "name": "ipython",
    "version": 2
   },
   "file_extension": ".py",
   "mimetype": "text/x-python",
   "name": "python",
   "nbconvert_exporter": "python",
   "pygments_lexer": "ipython2",
   "version": "2.7.11"
  }
 },
 "nbformat": 4,
 "nbformat_minor": 0
}
